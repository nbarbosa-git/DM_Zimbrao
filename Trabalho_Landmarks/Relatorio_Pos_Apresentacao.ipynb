{
 "cells": [
  {
   "cell_type": "raw",
   "metadata": {
    "slideshow": {
     "slide_type": "skip"
    }
   },
   "source": [
    "<script>\n",
    "  function code_toggle() {\n",
    "    if (code_shown){\n",
    "      $('div.input').hide('500');\n",
    "      $('#toggleButton').val('Show Code')\n",
    "    } else {\n",
    "      $('div.input').show('500');\n",
    "      $('#toggleButton').val('Hide Code')\n",
    "    }\n",
    "    code_shown = !code_shown\n",
    "  }\n",
    "\n",
    "  $( document ).ready(function(){\n",
    "    code_shown=false;\n",
    "    $('div.input').hide()\n",
    "  });\n",
    "</script>\n",
    "<form action=\"javascript:code_toggle()\"><input type=\"submit\" id=\"toggleButton\" value=\"Show Code\"></form>"
   ]
  },
  {
   "cell_type": "raw",
   "metadata": {
    "ExecuteTime": {
     "end_time": "2019-04-28T23:48:33.235023Z",
     "start_time": "2019-04-28T23:48:33.209240Z"
    },
    "slideshow": {
     "slide_type": "skip"
    }
   },
   "source": [
    "<script>\n",
    "  $(document).ready(function(){\n",
    "    $('div.prompt').hide();\n",
    "    $('div.back-to-top').hide();\n",
    "    $('nav#menubar').hide();\n",
    "    $('.breadcrumb').hide();\n",
    "    $('.hidden-print').hide();\n",
    "  });\n",
    "</script>\n",
    "\n",
    "<footer id=\"attribution\" style=\"float:right; color:#999; background:#fff;\">\n",
    "Created with Jupyter, delivered by Fastly, rendered by Rackspace.\n",
    "</footer>"
   ]
  },
  {
   "cell_type": "markdown",
   "metadata": {
    "slideshow": {
     "slide_type": "skip"
    }
   },
   "source": [
    "# (APERTAR O BOTÃO ACIMA PARA VER O CÓDIGO)"
   ]
  },
  {
   "cell_type": "markdown",
   "metadata": {
    "slideshow": {
     "slide_type": "skip"
    }
   },
   "source": [
    "# Relatório Landmarks - Nicholas Richers"
   ]
  },
  {
   "cell_type": "code",
   "execution_count": 1,
   "metadata": {
    "ExecuteTime": {
     "end_time": "2019-05-18T06:36:45.818898Z",
     "start_time": "2019-05-18T06:36:45.813976Z"
    },
    "code_folding": [],
    "slideshow": {
     "slide_type": "skip"
    }
   },
   "outputs": [],
   "source": [
    "#bibliotecas utilizadas\n",
    "import time\n",
    "import warnings\n",
    "warnings.filterwarnings('ignore')"
   ]
  },
  {
   "cell_type": "code",
   "execution_count": 2,
   "metadata": {
    "ExecuteTime": {
     "end_time": "2019-05-18T06:36:47.862522Z",
     "start_time": "2019-05-18T06:36:45.827117Z"
    },
    "code_folding": [],
    "slideshow": {
     "slide_type": "skip"
    }
   },
   "outputs": [],
   "source": [
    "# load libraries and set plot parameters\n",
    "import numpy as np\n",
    "import pandas as pd\n",
    "import matplotlib.pyplot as plt\n",
    "%matplotlib inline\n",
    "import seaborn as sns\n",
    "sns.set()\n",
    "plt.rcParams['savefig.dpi'] = 75\n",
    "plt.rcParams['figure.autolayout'] = False\n",
    "plt.rcParams['figure.figsize'] = 12, 4\n",
    "plt.rcParams['axes.labelsize'] = 12\n",
    "plt.rcParams['axes.titlesize'] = 16\n",
    "plt.rcParams['font.size'] = 16\n",
    "plt.rcParams['lines.linewidth'] = 2.0\n",
    "plt.rcParams['lines.markersize'] = 8\n",
    "plt.rcParams['legend.fontsize'] = 12\n",
    "import warnings\n",
    "warnings.filterwarnings('ignore')"
   ]
  },
  {
   "cell_type": "markdown",
   "metadata": {
    "slideshow": {
     "slide_type": "slide"
    }
   },
   "source": [
    "# Importação dos Dados:\n",
    "\n",
    "Utilizando o mesmo dataset já preparado no relatório market basket:\n",
    "* Haviam 18 filmes com Id duplicado, que foram removidos\n",
    "* A alteração dos filmes do Id duplicado gerou 522 notas duplicadas (i.e mesmo usuario dando nota pro mesmo filme) (261 foram removidas)"
   ]
  },
  {
   "cell_type": "code",
   "execution_count": 3,
   "metadata": {
    "ExecuteTime": {
     "end_time": "2019-05-18T06:36:52.187970Z",
     "start_time": "2019-05-18T06:36:47.867067Z"
    },
    "code_folding": [],
    "slideshow": {
     "slide_type": "skip"
    }
   },
   "outputs": [],
   "source": [
    "#carrega os dados\n",
    "from setup_database import setup_BD, setup_results, get_genre, fill_na\n",
    "\n",
    "#carregando os datasets de ratings\n",
    "original_ratings_100k = pd.read_csv('./ml-100k/u.data', header=None, delimiter=\"\\t\" )\n",
    "original_ratings_1M = pd.read_csv('./ml-1m/ratings.dat', header=None, delimiter=\":\" )\n",
    "\n",
    "\n",
    "#carregando os datasets de filmes\n",
    "original_movies_100k = pd.read_csv('./ml-100k/u.item', header=None, sep='|' , encoding='latin-1')\n",
    "original_movies_1M = pd.read_csv('./ml-1m/movies.dat', header=None, sep=';' , encoding='latin-1')\n",
    "\n",
    "\n",
    "#obter os datasets limpos\n",
    "rat_100k, mov_100k = setup_BD(original_ratings_100k, original_movies_100k)\n",
    "rat_1M, mov_1M = setup_BD(original_ratings_1M, original_movies_1M)"
   ]
  },
  {
   "cell_type": "markdown",
   "metadata": {
    "slideshow": {
     "slide_type": "skip"
    }
   },
   "source": [
    "## Análise Exploratória (Dataset 100k)"
   ]
  },
  {
   "cell_type": "markdown",
   "metadata": {
    "slideshow": {
     "slide_type": "skip"
    }
   },
   "source": [
    "Através do __Gráfico Boxplot__ abaixo, temos algumas informções interessantes como a __média de 106 filmes assistidos por usuário__, com uma máximo de 737."
   ]
  },
  {
   "cell_type": "code",
   "execution_count": 4,
   "metadata": {
    "ExecuteTime": {
     "end_time": "2019-05-18T06:36:52.705848Z",
     "start_time": "2019-05-18T06:36:52.192124Z"
    },
    "code_folding": [
     0
    ],
    "slideshow": {
     "slide_type": "subslide"
    }
   },
   "outputs": [
    {
     "data": {
      "image/png": "[encoded data removed]",
      "text/plain": [
       "<Figure size 720x432 with 2 Axes>"
      ]
     },
     "metadata": {
      "needs_background": "light"
     },
     "output_type": "display_data"
    },
    {
     "name": "stdout",
     "output_type": "stream",
     "text": [
      "Descrição dos Filmes por Usuário\n"
     ]
    },
    {
     "data": {
      "text/html": [
       "<div>\n",
       "<style scoped>\n",
       "    .dataframe tbody tr th:only-of-type {\n",
       "        vertical-align: middle;\n",
       "    }\n",
       "\n",
       "    .dataframe tbody tr th {\n",
       "        vertical-align: top;\n",
       "    }\n",
       "\n",
       "    .dataframe thead th {\n",
       "        text-align: right;\n",
       "    }\n",
       "</style>\n",
       "<table border=\"1\" class=\"dataframe\">\n",
       "  <thead>\n",
       "    <tr style=\"text-align: right;\">\n",
       "      <th></th>\n",
       "      <th>count</th>\n",
       "      <th>mean</th>\n",
       "      <th>std</th>\n",
       "      <th>min</th>\n",
       "      <th>25%</th>\n",
       "      <th>50%</th>\n",
       "      <th>75%</th>\n",
       "      <th>max</th>\n",
       "    </tr>\n",
       "  </thead>\n",
       "  <tbody>\n",
       "    <tr>\n",
       "      <th>count</th>\n",
       "      <td>944.0</td>\n",
       "      <td>105.608051</td>\n",
       "      <td>100.62503</td>\n",
       "      <td>1.0</td>\n",
       "      <td>33.0</td>\n",
       "      <td>64.0</td>\n",
       "      <td>147.25</td>\n",
       "      <td>736.0</td>\n",
       "    </tr>\n",
       "  </tbody>\n",
       "</table>\n",
       "</div>"
      ],
      "text/plain": [
       "       count        mean        std  min   25%   50%     75%    max\n",
       "count  944.0  105.608051  100.62503  1.0  33.0  64.0  147.25  736.0"
      ]
     },
     "execution_count": 4,
     "metadata": {},
     "output_type": "execute_result"
    }
   ],
   "source": [
    "#analise exploratoria\n",
    "plt.figure(figsize=(10, 6))\n",
    "plt.subplot(1,2,1)\n",
    "Users_Count_100k = rat_100k.groupby('User_Id').Rating.agg(['count'])\n",
    "Users_Count_100k.boxplot()\n",
    "plt.title(\"Nº de Filmes Assistidos por Usuário\")\n",
    "plt.ylabel(\"Nº de filmes assistidos\")\n",
    "\n",
    "\n",
    "plt.subplot(1,2,2)\n",
    "Movies_Count_100k = rat_100k.groupby('Movie_Id').Rating.agg(['count'])\n",
    "Movies_Count_100k.boxplot()\n",
    "plt.title(\"Nº de Usuários que Assistiram Cada Filme\")\n",
    "plt.ylabel(\"Audiência do Filme\")\n",
    "\n",
    "\n",
    "plt.tight_layout()\n",
    "plt.show()\n",
    "\n",
    "print(\"Descrição dos Filmes por Usuário\")\n",
    "Users_Count_100k.describe().T"
   ]
  },
  {
   "cell_type": "markdown",
   "metadata": {
    "slideshow": {
     "slide_type": "skip"
    }
   },
   "source": [
    "O __filme mais assistido__ com aproximadamente __600 visualizações__, porém a mdeiana de visualizações é de apenas 27 filmes, o que indica que teremos um vetor de notas extremamente esparço, o que favorece o uso de alguma tecnica de redução de dimensionalidade. "
   ]
  },
  {
   "cell_type": "code",
   "execution_count": 5,
   "metadata": {
    "ExecuteTime": {
     "end_time": "2019-05-18T06:36:52.740561Z",
     "start_time": "2019-05-18T06:36:52.709739Z"
    },
    "slideshow": {
     "slide_type": "subslide"
    }
   },
   "outputs": [
    {
     "name": "stdout",
     "output_type": "stream",
     "text": [
      "Usuários Por Filme\n"
     ]
    },
    {
     "data": {
      "text/html": [
       "<div>\n",
       "<style scoped>\n",
       "    .dataframe tbody tr th:only-of-type {\n",
       "        vertical-align: middle;\n",
       "    }\n",
       "\n",
       "    .dataframe tbody tr th {\n",
       "        vertical-align: top;\n",
       "    }\n",
       "\n",
       "    .dataframe thead th {\n",
       "        text-align: right;\n",
       "    }\n",
       "</style>\n",
       "<table border=\"1\" class=\"dataframe\">\n",
       "  <thead>\n",
       "    <tr style=\"text-align: right;\">\n",
       "      <th></th>\n",
       "      <th>count</th>\n",
       "      <th>mean</th>\n",
       "      <th>std</th>\n",
       "      <th>min</th>\n",
       "      <th>25%</th>\n",
       "      <th>50%</th>\n",
       "      <th>75%</th>\n",
       "      <th>max</th>\n",
       "    </tr>\n",
       "  </thead>\n",
       "  <tbody>\n",
       "    <tr>\n",
       "      <th>count</th>\n",
       "      <td>1664.0</td>\n",
       "      <td>59.91226</td>\n",
       "      <td>80.679656</td>\n",
       "      <td>1.0</td>\n",
       "      <td>7.0</td>\n",
       "      <td>27.0</td>\n",
       "      <td>80.0</td>\n",
       "      <td>583.0</td>\n",
       "    </tr>\n",
       "  </tbody>\n",
       "</table>\n",
       "</div>"
      ],
      "text/plain": [
       "        count      mean        std  min  25%   50%   75%    max\n",
       "count  1664.0  59.91226  80.679656  1.0  7.0  27.0  80.0  583.0"
      ]
     },
     "execution_count": 5,
     "metadata": {},
     "output_type": "execute_result"
    }
   ],
   "source": [
    "print(\"Usuários Por Filme\")\n",
    "Movies_Count_100k.describe().T  "
   ]
  },
  {
   "cell_type": "markdown",
   "metadata": {
    "ExecuteTime": {
     "end_time": "2019-05-13T19:06:50.801151Z",
     "start_time": "2019-05-13T19:06:50.797466Z"
    },
    "slideshow": {
     "slide_type": "slide"
    }
   },
   "source": [
    "# Treinamento do Modelo"
   ]
  },
  {
   "cell_type": "code",
   "execution_count": 6,
   "metadata": {
    "ExecuteTime": {
     "end_time": "2019-05-18T06:36:54.293293Z",
     "start_time": "2019-05-18T06:36:52.743767Z"
    },
    "code_folding": [],
    "slideshow": {
     "slide_type": "subslide"
    }
   },
   "outputs": [],
   "source": [
    "from sklearn.decomposition import KernelPCA\n",
    "def plot_pca(data, dim_list = (3,3,3), plot = True):\n",
    "\n",
    "    #dimensoes da figura\n",
    "    sub_plot = range(131, 134)\n",
    "    if plot==True: plt.figure(figsize=(15, 5))\n",
    "    \n",
    "    PcaComp = {}\n",
    "    kernel_list = (\"linear\", \"rbf\", \"sigmoid\")\n",
    "    for subplot, kernel, dim in zip(sub_plot, kernel_list, dim_list):\n",
    "\n",
    "        #obtem as componentes do PCA\n",
    "        Z_Comp = KernelPCA(n_components=dim,kernel=kernel,fit_inverse_transform=True).fit_transform(data)\n",
    "        PcaComp[kernel] = Z_Comp\n",
    "        \n",
    "        \n",
    "        \n",
    "        #(%)Variancia explicada pelas componentes\n",
    "        explained_var = np.var(Z_Comp, axis=0)\n",
    "        explained_var_ratio = explained_var / np.sum(explained_var)\n",
    "        explained_var_sum = np.cumsum(explained_var_ratio)*100\n",
    "\n",
    "        if plot==True:\n",
    "            #plotando as dimensoes 0 e 1 do PCA\n",
    "            plt.subplot(subplot)\n",
    "            plt.scatter(Z_Comp[:, 0], Z_Comp[:, 1])\n",
    "\n",
    "            #labels do gráfico\n",
    "            plt.title('Kernel {} | Dim:{} | Var: {:.1f}%'.format(kernel.capitalize(),dim, explained_var_sum[0]))\n",
    "            plt.xlabel(\"$z_1$\")\n",
    "            if subplot == 131: plt.ylabel(\"$z_2$\")\n",
    "\n",
    "\n",
    "    plt.tight_layout\n",
    "    plt.show()\n",
    "    return PcaComp\n",
    "ratings_100k,rat_sparse = fill_na(rat_100k, \"item\", \"mean\")\n",
    "PCA_Comps = plot_pca(ratings_100k, dim_list = (3,2,3)) "
   ]
  },
  {
   "cell_type": "code",
   "execution_count": 7,
   "metadata": {
    "ExecuteTime": {
     "end_time": "2019-05-18T06:36:54.313550Z",
     "start_time": "2019-05-18T06:36:54.296830Z"
    },
    "code_folding": [],
    "slideshow": {
     "slide_type": "skip"
    }
   },
   "outputs": [],
   "source": [
    "from sklearn.metrics import pairwise_distances\n",
    "from sklearn.metrics.pairwise import euclidean_distances, cosine_similarity, cosine_distances\n",
    "from sklearn.metrics.pairwise import manhattan_distances\n",
    "\n",
    "class Similarity_Matrix:\n",
    "    \n",
    "    def __init__(self, N_components, metric):\n",
    "        self.N_components = int(N_components)\n",
    "        self.metric = metric\n",
    "        \n",
    "    \n",
    "    def similarity_(self, data, transformed_data):\n",
    "        self.data = data\n",
    "        self.transformed_data = transformed_data\n",
    "        \n",
    "        if self.metric == \"manhattan\":\n",
    "            return pd.DataFrame(manhattan_distances(X=self.data, Y=self.transformed_data))\n",
    "        \n",
    "        if self.metric == \"euclidean\":\n",
    "            return pd.DataFrame(euclidean_distances(X=self.data, Y=self.transformed_data))\n",
    "        \n",
    "        \n",
    "\n",
    "    def landmarks_similarity(self, data, data_filled):\n",
    "        self.data = data\n",
    "        self.data_filled = data_filled\n",
    "   \n",
    "        \n",
    "        #seleciona os N_landmarks usuários com mais filmes vistos\n",
    "        UI_count = self.data.T.describe().T\n",
    "        self.landmarks_id = UI_count['count'].sort_values(ascending=False).head(self.N_components)\n",
    "        self.landmarks_id = pd.DataFrame(self.landmarks_id).index.tolist()\n",
    "        \n",
    "        #seleciona os as colunas dos landmarks preenchidos (dentro do k-fold de treinamento)\n",
    "        self.UI_landmarks = self.data_filled.loc[self.landmarks_id]\n",
    "        \n",
    "        #retorna a matriz User/Item vs Landmark\n",
    "        return self.similarity_(self.data_filled, self.UI_landmarks)\n",
    "        \n",
    "  \n",
    "    \n",
    "    def pca_similarity(self, data_filled):\n",
    "        self.data_filled = data_filled\n",
    "\n",
    "        UI_PCA = KernelPCA(n_components=self.N_components, \n",
    "                           kernel=\"linear\", fit_inverse_transform=True).fit_transform(self.data_filled)\n",
    "        \n",
    "        #retorna a matriz User/Item vs PCA\n",
    "        return pd.DataFrame(UI_PCA)\n",
    "     \n",
    "        \n",
    "    #passo 2->3 para pegar a matrix Suu   \n",
    "    def SM_Matrix(self, UI_components_matrix):  \n",
    "        self.UI_components_matrix = UI_components_matrix\n",
    "        return self.similarity_(self.UI_components_matrix, self.UI_components_matrix)\n",
    "    \n",
    "    \n",
    "    #reduz a matrix de similaridade entre os K_viz selecionados (ALG 1??)\n",
    "    def SM_redux(self, SM_Matrix, K_viz_list): #precisa da linha do proprio u??? \n",
    "        self.SM_Matrix = SM_Matrix\n",
    "        self.K_viz_list = K_viz_list\n",
    "        \n",
    "        Redux_SM = SM_Matrix[K_viz_list, :]\n",
    "        Redux_SM = Redux_SM[:, K_viz_list]\n",
    "        \n",
    "        return Redux_SM"
   ]
  },
  {
   "cell_type": "code",
   "execution_count": 8,
   "metadata": {
    "ExecuteTime": {
     "end_time": "2019-05-18T06:37:01.235732Z",
     "start_time": "2019-05-18T06:36:54.316912Z"
    },
    "code_folding": [],
    "slideshow": {
     "slide_type": "subslide"
    }
   },
   "outputs": [],
   "source": [
    "##Plotar o pairplot da reducao com landmarks\n",
    "X_filled, X_sparse = fill_na(rat_100k, \"item\", \"mean\")\n",
    "SM = Similarity_Matrix(3, \"euclidean\")\n",
    "SM_Euc_100k = SM.landmarks_similarity(X_sparse,X_filled)\n",
    "#sns.pairplot( SM_Euc_100k, x_vars=SM_Euc_100k.columns, y_vars=SM_Euc_100k.columns)"
   ]
  },
  {
   "cell_type": "code",
   "execution_count": 9,
   "metadata": {
    "ExecuteTime": {
     "end_time": "2019-05-18T06:37:01.253486Z",
     "start_time": "2019-05-18T06:37:01.240740Z"
    },
    "code_folding": [],
    "slideshow": {
     "slide_type": "skip"
    }
   },
   "outputs": [],
   "source": [
    "def get_parameters(model, n_try):\n",
    "    \n",
    "    \n",
    "    if model==\"PCA\":\n",
    "        k_neighboors_list = np.sort(np.array(list(set(np.rint(np.logspace(1, 2.5, n_try)))))) #10..316\n",
    "        components_list = np.sort(np.array(list(set(np.rint(np.logspace(1, 2.5, n_try)))))) #10..316\n",
    "        similarity_metrics = [\"euclidean\", \"manhattan\"]\n",
    "        fill_list = [\"mean\"]#, \"zero\",]\n",
    "            \n",
    "            \n",
    "    if model==\"Landmarks\":        \n",
    "        k_neighboors_list = np.sort(np.array(list(set(np.rint(np.logspace(1, 2.5, n_try)))))) #10..316\n",
    "        components_list = np.sort(np.array(list(set(np.rint(np.logspace(1, 2.7, n_try)))))) #10..500\n",
    "        similarity_metrics = [\"euclidean\", \"manhattan\"]\n",
    "        fill_list = [\"mean\"]#, \"zero\",]\n",
    "\n",
    "\n",
    "    knn_parameters = {\n",
    "        \"k_neighboors_list\": k_neighboors_list,\n",
    "        \"components_list\": components_list,\n",
    "        \"similarity_metrics\": similarity_metrics,\n",
    "        \"fill_list\": fill_list\n",
    "    }\n",
    "    \n",
    "    return knn_parameters"
   ]
  },
  {
   "cell_type": "code",
   "execution_count": 218,
   "metadata": {
    "ExecuteTime": {
     "end_time": "2019-05-18T14:57:15.782381Z",
     "start_time": "2019-05-18T14:57:15.754670Z"
    },
    "code_folding": [],
    "slideshow": {
     "slide_type": "skip"
    }
   },
   "outputs": [],
   "source": [
    "from sklearn.neighbors import KNeighborsRegressor, KNeighborsClassifier, NearestNeighbors\n",
    "from sklearn.metrics import mean_absolute_error, mean_squared_error\n",
    "import math\n",
    "from math import sqrt\n",
    "def predict_rating2(X_train, X_test, y_train, y_test, y_train_sparse, y_test_sparse, k_neighboors):\n",
    "    K_viz_list = {}\n",
    "    for user in y.index:\n",
    "        #lista dos vizinhos (u') mais proximos de U\n",
    "        K_viz_list[user] = X[user].sort_values(ascending=False).index[1: 1+k_neighboors]\n",
    "    \n",
    "    # Fazendo as previsões\n",
    "    for i in range(y.columns):\n",
    "        pred_ratings[i,:] = top_k_distances[i].T.dot( \n",
    "                                ratings_train[top_k_users][i])/np.array(\n",
    "                                [np.abs(top_k_distances[i].T).sum(axis=0)]).T\n",
    "        \n",
    "        \n",
    "        \n",
    "        \n",
    "    knn = KNeighborsRegressor(k_neighboors, weights=\"distance\",metric=\"euclidean\").fit(X_train, y_train)\n",
    "    #knn = KNeighborsRegressor(k_neighboors).fit(X_train, y_train)\n",
    "    \n",
    "    viz = np.array(X_train.iloc[0,:]).reshape((1, -1))\n",
    "    \n",
    "    print(knn.kneighbors(viz)) \n",
    "\n",
    "    #print(\"X_train: \", X_train.shape)\n",
    "    print(\"X_train: \", X_train)\n",
    "    #print(\"X_test: \", X_test.shape)\n",
    "    #print(\"y_train: \", y_train.shape)\n",
    "    #print(\"y_test: \", y_test.shape)\n",
    "    #print(\"#######\")\n",
    "    \n",
    "    \n",
    "    y_pred = knn.predict(X_test)\n",
    "    \n",
    "    mae_test = mean_absolute_error(y_test, y_pred)\n",
    "    mse_test = math.sqrt(mean_squared_error(y_test, y_pred))\n",
    "    \n",
    "    #print(\"y_train_sparse\", y_train_sparse.shape)\n",
    "    #print(\"y_test_sparse\", y_train_sparse.shape)\n",
    "    #print(\"y_pred\", y_pred.shape)\n",
    "    #print(\"#######\")\n",
    "    #print(\"y_pred: \", y_pred)\n",
    "    #print(\"y_test: \", y_test)\n",
    "    erro=br\n",
    "    \n",
    "    #limpar memoria\n",
    "    knn, y_pred = None, None\n",
    "    return mae_test, mse_test\n",
    "\n",
    "\n",
    "\n",
    "\n",
    "#####################\n",
    "#####################\n",
    "#####################\n",
    "\n",
    "\n",
    "def get_error(pred, actual):\n",
    "    pred = pred[actual.nonzero()].flatten()\n",
    "    actual = actual[actual.nonzero()].flatten()\n",
    "    \n",
    "    #pred = pred.flatten()\n",
    "    #actual = actual.flatten()\n",
    "    \n",
    "    print(pred[:10])\n",
    "    print(actual[:10])\n",
    "    \n",
    "    \n",
    "    return mean_squared_error(pred, actual), math.sqrt(mean_squared_error(pred, actual))\n",
    "\n",
    "\n",
    "   #predict_rating(SM_train, SM_test, y_train_filled, y_test_filled, y_train_sparse, y_test_sparse, kn)\n",
    "def predict_rating(X_train, X_test, y_train, y_test, y_train_sparse, y_test_sparse, k_neighboors):\n",
    "    \n",
    "    #start1 = time.time()\n",
    "\n",
    "    X = X_test\n",
    "    y = y_test\n",
    "    \n",
    "    y_sparse = y_test_sparse\n",
    "    X.columns = y.index\n",
    "    X.index = y.index\n",
    "    \n",
    "    \n",
    "    \n",
    "    knn = KNeighborsRegressor(k_neighboors, weights=\"distance\",metric=\"euclidean\").fit(X_train, y_train)\n",
    "    y_pred = knn.predict(X_test)\n",
    "    print(y_pred)\n",
    "    #print(y_pred.shape)\n",
    "    #print(y_sparse.shape)\n",
    "    y_sparse[np.isnan(y_sparse)] = 0\n",
    "    mae, mse = get_error(np.array(y_pred), np.array(y_sparse))\n",
    "    \n",
    "    print(mae)\n",
    "    print(mse)\n",
    "    \n",
    "    return mae, mse\n",
    "    \n",
    "    ############################\n",
    "    ############################\n",
    "    #########################\n",
    "    pred_ratings = np.zeros((len(y_train.index)+len(y_test.index) , len(y_train.columns)))\n",
    "    #print(pred_ratings.shape)\n",
    "    users_mean = y.mean(1)\n",
    "    pred = {}\n",
    "    for user in y.index:\n",
    "        \n",
    "        \n",
    "        #lista dos vizinhos (u') mais proximos de U\n",
    "        K_viz_list = X[user].sort_values(ascending=False).index[1: 1+k_neighboors]\n",
    "        \n",
    "        \n",
    "        #elementos da SM que vao ser usados\n",
    "        S_uu = X[user][K_viz_list]\n",
    "        sum_S_uu = sum(S_uu)\n",
    "        \n",
    "\n",
    "        #media do usuario\n",
    "        u_bar = users_mean[user]\n",
    "        uk = np.array([users_mean.loc[K_viz_list],]*len(y.columns)).T\n",
    "        yt = y.loc[K_viz_list]\n",
    "        \n",
    "        #preenche a nota\n",
    "        pred_ratings[user][y.columns] = (np.dot(S_uu, (yt[y.columns] - uk))/sum_S_uu) + u_bar\n",
    "        \n",
    "\n",
    "    #elapsed_time1 = time.time() - start1\n",
    "    #print(\"ep1: \", elapsed_time1)\n",
    "    \n",
    "    pred_ratings = pd.DataFrame(pred_ratings)\n",
    "    pred_ratings = pred_ratings.iloc[y.index]\n",
    "    y_sparse[np.isnan(y_sparse)] = 0\n",
    "    \n",
    "    #print(pred_ratings.shape)\n",
    "    #print(y_test.shape)\n",
    "    \n",
    "    mae, mse = get_error(np.array(pred_ratings), np.array(y_sparse))\n",
    "    \n",
    "    print(mae)\n",
    "    print(mse)\n",
    "    pred_ratings = None\n",
    "    return mae, mse"
   ]
  },
  {
   "cell_type": "code",
   "execution_count": 11,
   "metadata": {
    "ExecuteTime": {
     "end_time": "2019-05-18T06:37:01.308407Z",
     "start_time": "2019-05-18T06:37:01.294170Z"
    },
    "code_folding": [
     0
    ],
    "slideshow": {
     "slide_type": "skip"
    }
   },
   "outputs": [],
   "source": [
    "def agg_kfold(df):\n",
    "    columns=[\"fold\",\"fill_na\",\"Sim_Metric\",\"Components\",\"k_neighboors\",\"mae_test\",\"mse_test\",\"elapsed_time\"]\n",
    "    \n",
    "    #Agregate mae\n",
    "    aggdf=df.groupby(columns[1:5]).mae_test.agg([\"mean\"])\n",
    "    mae_mean_fold = [i for i in aggdf['mean'][:]]\n",
    "    df = df[df.fold == 1]\n",
    "    df['mae_test']=mae_mean_fold\n",
    "    \n",
    "    #Agregate mse\n",
    "    aggdf=df.groupby(columns[1:5]).mse_test.agg([\"mean\"])\n",
    "    mse_mean_fold = [i for i in aggdf['mean'][:]]\n",
    "    df = df[df.fold == 1]\n",
    "    df['mse_test']=mse_mean_fold\n",
    "    \n",
    "    #Agregate time\n",
    "    aggdf=df.groupby(columns[1:5]).elapsed_time.agg([\"mean\"])\n",
    "    elapsed_time_fold = [i for i in aggdf['mean'][:]]\n",
    "    df = df[df.fold == 1]\n",
    "    df['elapsed_time']=elapsed_time_fold\n",
    "    \n",
    "    \n",
    "    #atribute\n",
    "    df = df.loc[:,[\"fill_na\", \"Sim_Metric\",\"Components\",\"k_neighboors\", \"mae_test\", \"mse_test\", \"elapsed_time\"]]\n",
    "    \n",
    "    return df"
   ]
  },
  {
   "cell_type": "code",
   "execution_count": 211,
   "metadata": {
    "ExecuteTime": {
     "end_time": "2019-05-18T14:53:52.607210Z",
     "start_time": "2019-05-18T14:53:52.582448Z"
    },
    "code_folding": [
     6
    ],
    "slideshow": {
     "slide_type": "skip"
    }
   },
   "outputs": [],
   "source": [
    "#grid search\n",
    "from sklearn.model_selection import KFold\n",
    "from sklearn.model_selection import train_test_split\n",
    "def grid_search(X, components, kind, n_try):\n",
    "    parameters = get_parameters(components, n_try)\n",
    "\n",
    "    result  = pd.DataFrame(\n",
    "        columns=[\"fold\", \"fill_na\", \"Sim_Metric\", \"Components\", \"k_neighboors\", \"mae_test\", \"mse_test\", \"elapsed_time\"])\n",
    "    fold, row = 0,0\n",
    "    y = X\n",
    "    \n",
    "    #K-Fold\n",
    "    kf = KFold(n_splits=2, shuffle=True)\n",
    "    X_filled, X_sparse = fill_na(X, kind, fill_type='zero') #to get split index\n",
    "    \n",
    "\n",
    "    # Item x Item (index: Movies, col: User)\n",
    "    for train_index, test_index in kf.split(X_filled):\n",
    "        fold += 1\n",
    "        for fill_type in parameters['fill_list']:\n",
    "            \n",
    "            X_filled, X_sparse = fill_na(X, kind, fill_type)\n",
    "            y_filled, y_sparse = fill_na(y, kind, fill_type)\n",
    "            \n",
    "            \n",
    "            # get train and test splits\n",
    "            X_train_sparse, X_test_sparse = X_sparse.iloc[train_index], X_sparse.iloc[test_index]\n",
    "            y_train_sparse, y_test_sparse = y_sparse.iloc[train_index], y_sparse.iloc[test_index]\n",
    "            \n",
    "            X_train_filled, X_test_filled = X_filled.iloc[train_index], X_filled.iloc[test_index]\n",
    "            y_train_filled, y_test_filled = y_filled.iloc[train_index], y_filled.iloc[test_index]\n",
    "\n",
    "\n",
    "            for metric in parameters['similarity_metrics']:\n",
    "                for N_components in parameters['components_list']:\n",
    "                    \n",
    "                    SM = Similarity_Matrix(N_components, metric)\n",
    "                    \n",
    "                    if components == \"Landmarks\":\n",
    "                        UI_Comp_train = SM.landmarks_similarity(X_train_sparse, X_train_filled)\n",
    "                        UI_Comp_test = SM.landmarks_similarity(X_test_sparse, X_test_filled)\n",
    "                    \n",
    "                    if components == \"PCA\":\n",
    "                        UI_Comp_train  = SM.pca_similarity(X_train_filled)\n",
    "                        UI_Comp_test = SM.pca_similarity(X_test_filled)\n",
    "\n",
    "                    \n",
    "                    SM_train, SM_test = SM.SM_Matrix(UI_Comp_train), SM.SM_Matrix(UI_Comp_test)\n",
    "                    for kn in parameters['k_neighboors_list']:\n",
    "                        start1 = time.time()\n",
    "\n",
    "                        mae_test, mse_test = predict_rating(\n",
    "                                                        SM_train, SM_test, \n",
    "                                                        y_train_filled, y_test_filled,\n",
    "                                                        y_train_sparse, y_test_sparse, int(kn))\n",
    "                        \n",
    "\n",
    "\n",
    "                        elapsed_time = time.time() - start1\n",
    "                        result.loc[row]=[fold,fill_type,metric,N_components,kn,mae_test,mse_test,elapsed_time]\n",
    "                        row +=1\n",
    "                    \n",
    "                    #Limpar memoria\n",
    "                    SM, UI_Comp_train, UI_Comp_test,SM_train, SM_test = None,None,None,None,None\n",
    "                        \n",
    "                        \n",
    "    result = agg_kfold(result)\n",
    "    return result"
   ]
  },
  {
   "cell_type": "code",
   "execution_count": 219,
   "metadata": {
    "ExecuteTime": {
     "end_time": "2019-05-18T14:57:32.955400Z",
     "start_time": "2019-05-18T14:57:23.844111Z"
    },
    "code_folding": [
     0
    ],
    "scrolled": false,
    "slideshow": {
     "slide_type": "slide"
    }
   },
   "outputs": [
    {
     "name": "stdout",
     "output_type": "stream",
     "text": [
      "100k_item_Landmarks\n",
      "[[4.20354051 3.10523048 2.92708015 ... 3.         3.         3.        ]\n",
      " [3.97567829 3.28538029 3.03000187 ... 3.         3.         3.        ]\n",
      " [4.03742822 3.32307625 2.92665329 ... 3.         3.         3.        ]\n",
      " ...\n",
      " [3.97591201 3.18551618 3.12311803 ... 3.         3.         3.        ]\n",
      " [3.88789829 3.28540749 3.03000236 ... 3.         3.         3.        ]\n",
      " [4.15141815 3.18552441 2.81679265 ... 3.         3.         3.        ]]\n",
      "[4.20354051 3.10523048 2.92708015 3.8296777  3.34252567 3.57692308\n",
      " 4.33901235 4.19969731 4.04841627 3.98128316]\n",
      "[5. 3. 4. 3. 3. 5. 4. 1. 5. 3.]\n",
      "1.0174080558538232\n",
      "1.008666474040762\n",
      "[[3.91755063 3.20839967 3.01400768 ... 3.         3.         3.        ]\n",
      " [3.86623763 3.21672438 3.05346441 ... 3.         3.         3.        ]\n",
      " [3.88479471 3.20764611 3.03076518 ... 3.         3.         3.        ]\n",
      " ...\n",
      " [3.88429629 3.2150136  3.05295696 ... 3.         3.         3.        ]\n",
      " [3.86610549 3.21684025 3.05341389 ... 3.         3.         3.        ]\n",
      " [3.88359518 3.20822113 3.04090772 ... 3.         3.         3.        ]]\n",
      "[3.91755063 3.20839967 3.01400768 3.5349696  3.32713708 3.57964768\n",
      " 3.85332028 4.00953826 3.89667578 3.82690853]\n",
      "[5. 3. 4. 3. 3. 5. 4. 1. 5. 3.]\n",
      "0.990827655566825\n",
      "0.9954032627869094\n"
     ]
    },
    {
     "ename": "KeyboardInterrupt",
     "evalue": "",
     "output_type": "error",
     "traceback": [
      "\u001b[0;31m---------------------------------------------------------------------------\u001b[0m",
      "\u001b[0;31mKeyboardInterrupt\u001b[0m                         Traceback (most recent call last)",
      "\u001b[0;32m<ipython-input-219-ca093978bf99>\u001b[0m in \u001b[0;36m<module>\u001b[0;34m\u001b[0m\n\u001b[1;32m     31\u001b[0m     \u001b[0;32mreturn\u001b[0m \u001b[0mresults\u001b[0m\u001b[0;34m\u001b[0m\u001b[0;34m\u001b[0m\u001b[0m\n\u001b[1;32m     32\u001b[0m \u001b[0mn_try\u001b[0m \u001b[0;34m=\u001b[0m \u001b[0;36m2\u001b[0m \u001b[0;31m#lembrar de arrumar o kfold\u001b[0m\u001b[0;34m\u001b[0m\u001b[0;34m\u001b[0m\u001b[0m\n\u001b[0;32m---> 33\u001b[0;31m \u001b[0mresults\u001b[0m \u001b[0;34m=\u001b[0m \u001b[0mget_results\u001b[0m\u001b[0;34m(\u001b[0m\u001b[0mrat_100k\u001b[0m\u001b[0;34m,\u001b[0m \u001b[0mrat_1M\u001b[0m\u001b[0;34m,\u001b[0m \u001b[0mmodel_name\u001b[0m\u001b[0;34m,\u001b[0m \u001b[0mn_try\u001b[0m\u001b[0;34m)\u001b[0m\u001b[0;34m\u001b[0m\u001b[0;34m\u001b[0m\u001b[0m\n\u001b[0m\u001b[1;32m     34\u001b[0m \u001b[0mpd\u001b[0m\u001b[0;34m.\u001b[0m\u001b[0mDataFrame\u001b[0m\u001b[0;34m.\u001b[0m\u001b[0mfrom_dict\u001b[0m\u001b[0;34m(\u001b[0m\u001b[0mresults\u001b[0m\u001b[0;34m[\u001b[0m\u001b[0mmodel_name\u001b[0m\u001b[0;34m[\u001b[0m\u001b[0;36m0\u001b[0m\u001b[0;34m]\u001b[0m\u001b[0;34m]\u001b[0m\u001b[0;34m)\u001b[0m\u001b[0;34m.\u001b[0m\u001b[0mhead\u001b[0m\u001b[0;34m(\u001b[0m\u001b[0;34m)\u001b[0m\u001b[0;34m\u001b[0m\u001b[0;34m\u001b[0m\u001b[0m\n",
      "\u001b[0;32m<ipython-input-219-ca093978bf99>\u001b[0m in \u001b[0;36mget_results\u001b[0;34m(db_100k, db_1M, model_name, n_try)\u001b[0m\n\u001b[1;32m     23\u001b[0m                 \u001b[0mprint\u001b[0m\u001b[0;34m(\u001b[0m\u001b[0mmodel_name\u001b[0m\u001b[0;34m[\u001b[0m\u001b[0mind_name\u001b[0m\u001b[0;34m]\u001b[0m\u001b[0;34m)\u001b[0m\u001b[0;34m\u001b[0m\u001b[0;34m\u001b[0m\u001b[0m\n\u001b[1;32m     24\u001b[0m \u001b[0;34m\u001b[0m\u001b[0m\n\u001b[0;32m---> 25\u001b[0;31m                 \u001b[0mresults\u001b[0m\u001b[0;34m[\u001b[0m\u001b[0mmodel_name\u001b[0m\u001b[0;34m[\u001b[0m\u001b[0mind_name\u001b[0m\u001b[0;34m]\u001b[0m\u001b[0;34m]\u001b[0m \u001b[0;34m=\u001b[0m \u001b[0mgrid_search\u001b[0m\u001b[0;34m(\u001b[0m\u001b[0mdata\u001b[0m\u001b[0;34m,\u001b[0m \u001b[0mcomponents\u001b[0m\u001b[0;34m,\u001b[0m \u001b[0mkind\u001b[0m\u001b[0;34m,\u001b[0m \u001b[0mn_try\u001b[0m\u001b[0;34m)\u001b[0m\u001b[0;34m\u001b[0m\u001b[0;34m\u001b[0m\u001b[0m\n\u001b[0m\u001b[1;32m     26\u001b[0m                 \u001b[0mind_name\u001b[0m\u001b[0;34m+=\u001b[0m\u001b[0;36m1\u001b[0m\u001b[0;34m\u001b[0m\u001b[0;34m\u001b[0m\u001b[0m\n\u001b[1;32m     27\u001b[0m                 \u001b[0;31m#break\u001b[0m\u001b[0;34m\u001b[0m\u001b[0;34m\u001b[0m\u001b[0;34m\u001b[0m\u001b[0m\n",
      "\u001b[0;32m<ipython-input-211-3b0e98b33b22>\u001b[0m in \u001b[0;36mgrid_search\u001b[0;34m(X, components, kind, n_try)\u001b[0m\n\u001b[1;32m     38\u001b[0m \u001b[0;34m\u001b[0m\u001b[0m\n\u001b[1;32m     39\u001b[0m                     \u001b[0;32mif\u001b[0m \u001b[0mcomponents\u001b[0m \u001b[0;34m==\u001b[0m \u001b[0;34m\"Landmarks\"\u001b[0m\u001b[0;34m:\u001b[0m\u001b[0;34m\u001b[0m\u001b[0;34m\u001b[0m\u001b[0m\n\u001b[0;32m---> 40\u001b[0;31m                         \u001b[0mUI_Comp_train\u001b[0m \u001b[0;34m=\u001b[0m \u001b[0mSM\u001b[0m\u001b[0;34m.\u001b[0m\u001b[0mlandmarks_similarity\u001b[0m\u001b[0;34m(\u001b[0m\u001b[0mX_train_sparse\u001b[0m\u001b[0;34m,\u001b[0m \u001b[0mX_train_filled\u001b[0m\u001b[0;34m)\u001b[0m\u001b[0;34m\u001b[0m\u001b[0;34m\u001b[0m\u001b[0m\n\u001b[0m\u001b[1;32m     41\u001b[0m                         \u001b[0mUI_Comp_test\u001b[0m \u001b[0;34m=\u001b[0m \u001b[0mSM\u001b[0m\u001b[0;34m.\u001b[0m\u001b[0mlandmarks_similarity\u001b[0m\u001b[0;34m(\u001b[0m\u001b[0mX_test_sparse\u001b[0m\u001b[0;34m,\u001b[0m \u001b[0mX_test_filled\u001b[0m\u001b[0;34m)\u001b[0m\u001b[0;34m\u001b[0m\u001b[0;34m\u001b[0m\u001b[0m\n\u001b[1;32m     42\u001b[0m \u001b[0;34m\u001b[0m\u001b[0m\n",
      "\u001b[0;32m<ipython-input-7-de8968c74bad>\u001b[0m in \u001b[0;36mlandmarks_similarity\u001b[0;34m(self, data, data_filled)\u001b[0m\n\u001b[1;32m     28\u001b[0m \u001b[0;34m\u001b[0m\u001b[0m\n\u001b[1;32m     29\u001b[0m         \u001b[0;31m#seleciona os N_landmarks usuários com mais filmes vistos\u001b[0m\u001b[0;34m\u001b[0m\u001b[0;34m\u001b[0m\u001b[0;34m\u001b[0m\u001b[0m\n\u001b[0;32m---> 30\u001b[0;31m         \u001b[0mUI_count\u001b[0m \u001b[0;34m=\u001b[0m \u001b[0mself\u001b[0m\u001b[0;34m.\u001b[0m\u001b[0mdata\u001b[0m\u001b[0;34m.\u001b[0m\u001b[0mT\u001b[0m\u001b[0;34m.\u001b[0m\u001b[0mdescribe\u001b[0m\u001b[0;34m(\u001b[0m\u001b[0;34m)\u001b[0m\u001b[0;34m.\u001b[0m\u001b[0mT\u001b[0m\u001b[0;34m\u001b[0m\u001b[0;34m\u001b[0m\u001b[0m\n\u001b[0m\u001b[1;32m     31\u001b[0m         \u001b[0mself\u001b[0m\u001b[0;34m.\u001b[0m\u001b[0mlandmarks_id\u001b[0m \u001b[0;34m=\u001b[0m \u001b[0mUI_count\u001b[0m\u001b[0;34m[\u001b[0m\u001b[0;34m'count'\u001b[0m\u001b[0;34m]\u001b[0m\u001b[0;34m.\u001b[0m\u001b[0msort_values\u001b[0m\u001b[0;34m(\u001b[0m\u001b[0mascending\u001b[0m\u001b[0;34m=\u001b[0m\u001b[0;32mFalse\u001b[0m\u001b[0;34m)\u001b[0m\u001b[0;34m.\u001b[0m\u001b[0mhead\u001b[0m\u001b[0;34m(\u001b[0m\u001b[0mself\u001b[0m\u001b[0;34m.\u001b[0m\u001b[0mN_components\u001b[0m\u001b[0;34m)\u001b[0m\u001b[0;34m\u001b[0m\u001b[0;34m\u001b[0m\u001b[0m\n\u001b[1;32m     32\u001b[0m         \u001b[0mself\u001b[0m\u001b[0;34m.\u001b[0m\u001b[0mlandmarks_id\u001b[0m \u001b[0;34m=\u001b[0m \u001b[0mpd\u001b[0m\u001b[0;34m.\u001b[0m\u001b[0mDataFrame\u001b[0m\u001b[0;34m(\u001b[0m\u001b[0mself\u001b[0m\u001b[0;34m.\u001b[0m\u001b[0mlandmarks_id\u001b[0m\u001b[0;34m)\u001b[0m\u001b[0;34m.\u001b[0m\u001b[0mindex\u001b[0m\u001b[0;34m.\u001b[0m\u001b[0mtolist\u001b[0m\u001b[0;34m(\u001b[0m\u001b[0;34m)\u001b[0m\u001b[0;34m\u001b[0m\u001b[0;34m\u001b[0m\u001b[0m\n",
      "\u001b[0;32m~/anaconda3/envs/Data_Mining/lib/python3.6/site-packages/pandas/core/generic.py\u001b[0m in \u001b[0;36mdescribe\u001b[0;34m(self, percentiles, include, exclude)\u001b[0m\n\u001b[1;32m   9811\u001b[0m                     \u001b[0mnames\u001b[0m\u001b[0;34m.\u001b[0m\u001b[0mappend\u001b[0m\u001b[0;34m(\u001b[0m\u001b[0mname\u001b[0m\u001b[0;34m)\u001b[0m\u001b[0;34m\u001b[0m\u001b[0;34m\u001b[0m\u001b[0m\n\u001b[1;32m   9812\u001b[0m \u001b[0;34m\u001b[0m\u001b[0m\n\u001b[0;32m-> 9813\u001b[0;31m         \u001b[0md\u001b[0m \u001b[0;34m=\u001b[0m \u001b[0mpd\u001b[0m\u001b[0;34m.\u001b[0m\u001b[0mconcat\u001b[0m\u001b[0;34m(\u001b[0m\u001b[0mldesc\u001b[0m\u001b[0;34m,\u001b[0m \u001b[0mjoin_axes\u001b[0m\u001b[0;34m=\u001b[0m\u001b[0mpd\u001b[0m\u001b[0;34m.\u001b[0m\u001b[0mIndex\u001b[0m\u001b[0;34m(\u001b[0m\u001b[0;34m[\u001b[0m\u001b[0mnames\u001b[0m\u001b[0;34m]\u001b[0m\u001b[0;34m)\u001b[0m\u001b[0;34m,\u001b[0m \u001b[0maxis\u001b[0m\u001b[0;34m=\u001b[0m\u001b[0;36m1\u001b[0m\u001b[0;34m)\u001b[0m\u001b[0;34m\u001b[0m\u001b[0;34m\u001b[0m\u001b[0m\n\u001b[0m\u001b[1;32m   9814\u001b[0m         \u001b[0md\u001b[0m\u001b[0;34m.\u001b[0m\u001b[0mcolumns\u001b[0m \u001b[0;34m=\u001b[0m \u001b[0mdata\u001b[0m\u001b[0;34m.\u001b[0m\u001b[0mcolumns\u001b[0m\u001b[0;34m.\u001b[0m\u001b[0mcopy\u001b[0m\u001b[0;34m(\u001b[0m\u001b[0;34m)\u001b[0m\u001b[0;34m\u001b[0m\u001b[0;34m\u001b[0m\u001b[0m\n\u001b[1;32m   9815\u001b[0m         \u001b[0;32mreturn\u001b[0m \u001b[0md\u001b[0m\u001b[0;34m\u001b[0m\u001b[0;34m\u001b[0m\u001b[0m\n",
      "\u001b[0;32m~/anaconda3/envs/Data_Mining/lib/python3.6/site-packages/pandas/core/reshape/concat.py\u001b[0m in \u001b[0;36mconcat\u001b[0;34m(objs, axis, join, join_axes, ignore_index, keys, levels, names, verify_integrity, sort, copy)\u001b[0m\n\u001b[1;32m    227\u001b[0m                        \u001b[0mverify_integrity\u001b[0m\u001b[0;34m=\u001b[0m\u001b[0mverify_integrity\u001b[0m\u001b[0;34m,\u001b[0m\u001b[0;34m\u001b[0m\u001b[0;34m\u001b[0m\u001b[0m\n\u001b[1;32m    228\u001b[0m                        copy=copy, sort=sort)\n\u001b[0;32m--> 229\u001b[0;31m     \u001b[0;32mreturn\u001b[0m \u001b[0mop\u001b[0m\u001b[0;34m.\u001b[0m\u001b[0mget_result\u001b[0m\u001b[0;34m(\u001b[0m\u001b[0;34m)\u001b[0m\u001b[0;34m\u001b[0m\u001b[0;34m\u001b[0m\u001b[0m\n\u001b[0m\u001b[1;32m    230\u001b[0m \u001b[0;34m\u001b[0m\u001b[0m\n\u001b[1;32m    231\u001b[0m \u001b[0;34m\u001b[0m\u001b[0m\n",
      "\u001b[0;32m~/anaconda3/envs/Data_Mining/lib/python3.6/site-packages/pandas/core/reshape/concat.py\u001b[0m in \u001b[0;36mget_result\u001b[0;34m(self)\u001b[0m\n\u001b[1;32m    401\u001b[0m \u001b[0;34m\u001b[0m\u001b[0m\n\u001b[1;32m    402\u001b[0m                 \u001b[0mindex\u001b[0m\u001b[0;34m,\u001b[0m \u001b[0mcolumns\u001b[0m \u001b[0;34m=\u001b[0m \u001b[0mself\u001b[0m\u001b[0;34m.\u001b[0m\u001b[0mnew_axes\u001b[0m\u001b[0;34m\u001b[0m\u001b[0;34m\u001b[0m\u001b[0m\n\u001b[0;32m--> 403\u001b[0;31m                 \u001b[0mdf\u001b[0m \u001b[0;34m=\u001b[0m \u001b[0mcons\u001b[0m\u001b[0;34m(\u001b[0m\u001b[0mdata\u001b[0m\u001b[0;34m,\u001b[0m \u001b[0mindex\u001b[0m\u001b[0;34m=\u001b[0m\u001b[0mindex\u001b[0m\u001b[0;34m)\u001b[0m\u001b[0;34m\u001b[0m\u001b[0;34m\u001b[0m\u001b[0m\n\u001b[0m\u001b[1;32m    404\u001b[0m                 \u001b[0mdf\u001b[0m\u001b[0;34m.\u001b[0m\u001b[0mcolumns\u001b[0m \u001b[0;34m=\u001b[0m \u001b[0mcolumns\u001b[0m\u001b[0;34m\u001b[0m\u001b[0;34m\u001b[0m\u001b[0m\n\u001b[1;32m    405\u001b[0m                 \u001b[0;32mreturn\u001b[0m \u001b[0mdf\u001b[0m\u001b[0;34m.\u001b[0m\u001b[0m__finalize__\u001b[0m\u001b[0;34m(\u001b[0m\u001b[0mself\u001b[0m\u001b[0;34m,\u001b[0m \u001b[0mmethod\u001b[0m\u001b[0;34m=\u001b[0m\u001b[0;34m'concat'\u001b[0m\u001b[0;34m)\u001b[0m\u001b[0;34m\u001b[0m\u001b[0;34m\u001b[0m\u001b[0m\n",
      "\u001b[0;32m~/anaconda3/envs/Data_Mining/lib/python3.6/site-packages/pandas/core/frame.py\u001b[0m in \u001b[0;36m__init__\u001b[0;34m(self, data, index, columns, dtype, copy)\u001b[0m\n\u001b[1;32m    390\u001b[0m                                  dtype=dtype, copy=copy)\n\u001b[1;32m    391\u001b[0m         \u001b[0;32melif\u001b[0m \u001b[0misinstance\u001b[0m\u001b[0;34m(\u001b[0m\u001b[0mdata\u001b[0m\u001b[0;34m,\u001b[0m \u001b[0mdict\u001b[0m\u001b[0;34m)\u001b[0m\u001b[0;34m:\u001b[0m\u001b[0;34m\u001b[0m\u001b[0;34m\u001b[0m\u001b[0m\n\u001b[0;32m--> 392\u001b[0;31m             \u001b[0mmgr\u001b[0m \u001b[0;34m=\u001b[0m \u001b[0minit_dict\u001b[0m\u001b[0;34m(\u001b[0m\u001b[0mdata\u001b[0m\u001b[0;34m,\u001b[0m \u001b[0mindex\u001b[0m\u001b[0;34m,\u001b[0m \u001b[0mcolumns\u001b[0m\u001b[0;34m,\u001b[0m \u001b[0mdtype\u001b[0m\u001b[0;34m=\u001b[0m\u001b[0mdtype\u001b[0m\u001b[0;34m)\u001b[0m\u001b[0;34m\u001b[0m\u001b[0;34m\u001b[0m\u001b[0m\n\u001b[0m\u001b[1;32m    393\u001b[0m         \u001b[0;32melif\u001b[0m \u001b[0misinstance\u001b[0m\u001b[0;34m(\u001b[0m\u001b[0mdata\u001b[0m\u001b[0;34m,\u001b[0m \u001b[0mma\u001b[0m\u001b[0;34m.\u001b[0m\u001b[0mMaskedArray\u001b[0m\u001b[0;34m)\u001b[0m\u001b[0;34m:\u001b[0m\u001b[0;34m\u001b[0m\u001b[0;34m\u001b[0m\u001b[0m\n\u001b[1;32m    394\u001b[0m             \u001b[0;32mimport\u001b[0m \u001b[0mnumpy\u001b[0m\u001b[0;34m.\u001b[0m\u001b[0mma\u001b[0m\u001b[0;34m.\u001b[0m\u001b[0mmrecords\u001b[0m \u001b[0;32mas\u001b[0m \u001b[0mmrecords\u001b[0m\u001b[0;34m\u001b[0m\u001b[0;34m\u001b[0m\u001b[0m\n",
      "\u001b[0;32m~/anaconda3/envs/Data_Mining/lib/python3.6/site-packages/pandas/core/internals/construction.py\u001b[0m in \u001b[0;36minit_dict\u001b[0;34m(data, index, columns, dtype)\u001b[0m\n\u001b[1;32m    210\u001b[0m         \u001b[0marrays\u001b[0m \u001b[0;34m=\u001b[0m \u001b[0;34m[\u001b[0m\u001b[0mdata\u001b[0m\u001b[0;34m[\u001b[0m\u001b[0mk\u001b[0m\u001b[0;34m]\u001b[0m \u001b[0;32mfor\u001b[0m \u001b[0mk\u001b[0m \u001b[0;32min\u001b[0m \u001b[0mkeys\u001b[0m\u001b[0;34m]\u001b[0m\u001b[0;34m\u001b[0m\u001b[0;34m\u001b[0m\u001b[0m\n\u001b[1;32m    211\u001b[0m \u001b[0;34m\u001b[0m\u001b[0m\n\u001b[0;32m--> 212\u001b[0;31m     \u001b[0;32mreturn\u001b[0m \u001b[0marrays_to_mgr\u001b[0m\u001b[0;34m(\u001b[0m\u001b[0marrays\u001b[0m\u001b[0;34m,\u001b[0m \u001b[0mdata_names\u001b[0m\u001b[0;34m,\u001b[0m \u001b[0mindex\u001b[0m\u001b[0;34m,\u001b[0m \u001b[0mcolumns\u001b[0m\u001b[0;34m,\u001b[0m \u001b[0mdtype\u001b[0m\u001b[0;34m=\u001b[0m\u001b[0mdtype\u001b[0m\u001b[0;34m)\u001b[0m\u001b[0;34m\u001b[0m\u001b[0;34m\u001b[0m\u001b[0m\n\u001b[0m\u001b[1;32m    213\u001b[0m \u001b[0;34m\u001b[0m\u001b[0m\n\u001b[1;32m    214\u001b[0m \u001b[0;34m\u001b[0m\u001b[0m\n",
      "\u001b[0;32m~/anaconda3/envs/Data_Mining/lib/python3.6/site-packages/pandas/core/internals/construction.py\u001b[0m in \u001b[0;36marrays_to_mgr\u001b[0;34m(arrays, arr_names, index, columns, dtype)\u001b[0m\n\u001b[1;32m     59\u001b[0m     \u001b[0maxes\u001b[0m \u001b[0;34m=\u001b[0m \u001b[0;34m[\u001b[0m\u001b[0mensure_index\u001b[0m\u001b[0;34m(\u001b[0m\u001b[0mcolumns\u001b[0m\u001b[0;34m)\u001b[0m\u001b[0;34m,\u001b[0m \u001b[0mindex\u001b[0m\u001b[0;34m]\u001b[0m\u001b[0;34m\u001b[0m\u001b[0;34m\u001b[0m\u001b[0m\n\u001b[1;32m     60\u001b[0m \u001b[0;34m\u001b[0m\u001b[0m\n\u001b[0;32m---> 61\u001b[0;31m     \u001b[0;32mreturn\u001b[0m \u001b[0mcreate_block_manager_from_arrays\u001b[0m\u001b[0;34m(\u001b[0m\u001b[0marrays\u001b[0m\u001b[0;34m,\u001b[0m \u001b[0marr_names\u001b[0m\u001b[0;34m,\u001b[0m \u001b[0maxes\u001b[0m\u001b[0;34m)\u001b[0m\u001b[0;34m\u001b[0m\u001b[0;34m\u001b[0m\u001b[0m\n\u001b[0m\u001b[1;32m     62\u001b[0m \u001b[0;34m\u001b[0m\u001b[0m\n\u001b[1;32m     63\u001b[0m \u001b[0;34m\u001b[0m\u001b[0m\n",
      "\u001b[0;32m~/anaconda3/envs/Data_Mining/lib/python3.6/site-packages/pandas/core/internals/managers.py\u001b[0m in \u001b[0;36mcreate_block_manager_from_arrays\u001b[0;34m(arrays, names, axes)\u001b[0m\n\u001b[1;32m   1664\u001b[0m \u001b[0;34m\u001b[0m\u001b[0m\n\u001b[1;32m   1665\u001b[0m     \u001b[0;32mtry\u001b[0m\u001b[0;34m:\u001b[0m\u001b[0;34m\u001b[0m\u001b[0;34m\u001b[0m\u001b[0m\n\u001b[0;32m-> 1666\u001b[0;31m         \u001b[0mblocks\u001b[0m \u001b[0;34m=\u001b[0m \u001b[0mform_blocks\u001b[0m\u001b[0;34m(\u001b[0m\u001b[0marrays\u001b[0m\u001b[0;34m,\u001b[0m \u001b[0mnames\u001b[0m\u001b[0;34m,\u001b[0m \u001b[0maxes\u001b[0m\u001b[0;34m)\u001b[0m\u001b[0;34m\u001b[0m\u001b[0;34m\u001b[0m\u001b[0m\n\u001b[0m\u001b[1;32m   1667\u001b[0m         \u001b[0mmgr\u001b[0m \u001b[0;34m=\u001b[0m \u001b[0mBlockManager\u001b[0m\u001b[0;34m(\u001b[0m\u001b[0mblocks\u001b[0m\u001b[0;34m,\u001b[0m \u001b[0maxes\u001b[0m\u001b[0;34m)\u001b[0m\u001b[0;34m\u001b[0m\u001b[0;34m\u001b[0m\u001b[0m\n\u001b[1;32m   1668\u001b[0m         \u001b[0mmgr\u001b[0m\u001b[0;34m.\u001b[0m\u001b[0m_consolidate_inplace\u001b[0m\u001b[0;34m(\u001b[0m\u001b[0;34m)\u001b[0m\u001b[0;34m\u001b[0m\u001b[0;34m\u001b[0m\u001b[0m\n",
      "\u001b[0;32m~/anaconda3/envs/Data_Mining/lib/python3.6/site-packages/pandas/core/internals/managers.py\u001b[0m in \u001b[0;36mform_blocks\u001b[0;34m(arrays, names, axes)\u001b[0m\n\u001b[1;32m   1715\u001b[0m         \u001b[0mv\u001b[0m \u001b[0;34m=\u001b[0m \u001b[0marrays\u001b[0m\u001b[0;34m[\u001b[0m\u001b[0mname_idx\u001b[0m\u001b[0;34m]\u001b[0m\u001b[0;34m\u001b[0m\u001b[0;34m\u001b[0m\u001b[0m\n\u001b[1;32m   1716\u001b[0m \u001b[0;34m\u001b[0m\u001b[0m\n\u001b[0;32m-> 1717\u001b[0;31m         \u001b[0mblock_type\u001b[0m \u001b[0;34m=\u001b[0m \u001b[0mget_block_type\u001b[0m\u001b[0;34m(\u001b[0m\u001b[0mv\u001b[0m\u001b[0;34m)\u001b[0m\u001b[0;34m\u001b[0m\u001b[0;34m\u001b[0m\u001b[0m\n\u001b[0m\u001b[1;32m   1718\u001b[0m         \u001b[0mitems_dict\u001b[0m\u001b[0;34m[\u001b[0m\u001b[0mblock_type\u001b[0m\u001b[0;34m.\u001b[0m\u001b[0m__name__\u001b[0m\u001b[0;34m]\u001b[0m\u001b[0;34m.\u001b[0m\u001b[0mappend\u001b[0m\u001b[0;34m(\u001b[0m\u001b[0;34m(\u001b[0m\u001b[0mi\u001b[0m\u001b[0;34m,\u001b[0m \u001b[0mk\u001b[0m\u001b[0;34m,\u001b[0m \u001b[0mv\u001b[0m\u001b[0;34m)\u001b[0m\u001b[0;34m)\u001b[0m\u001b[0;34m\u001b[0m\u001b[0;34m\u001b[0m\u001b[0m\n\u001b[1;32m   1719\u001b[0m \u001b[0;34m\u001b[0m\u001b[0m\n",
      "\u001b[0;32m~/anaconda3/envs/Data_Mining/lib/python3.6/site-packages/pandas/core/internals/blocks.py\u001b[0m in \u001b[0;36mget_block_type\u001b[0;34m(values, dtype)\u001b[0m\n\u001b[1;32m   3051\u001b[0m         \u001b[0;31m# Need this first(ish) so that Sparse[datetime] is sparse\u001b[0m\u001b[0;34m\u001b[0m\u001b[0;34m\u001b[0m\u001b[0;34m\u001b[0m\u001b[0m\n\u001b[1;32m   3052\u001b[0m         \u001b[0mcls\u001b[0m \u001b[0;34m=\u001b[0m \u001b[0mExtensionBlock\u001b[0m\u001b[0;34m\u001b[0m\u001b[0;34m\u001b[0m\u001b[0m\n\u001b[0;32m-> 3053\u001b[0;31m     \u001b[0;32melif\u001b[0m \u001b[0mis_categorical\u001b[0m\u001b[0;34m(\u001b[0m\u001b[0mvalues\u001b[0m\u001b[0;34m)\u001b[0m\u001b[0;34m:\u001b[0m\u001b[0;34m\u001b[0m\u001b[0;34m\u001b[0m\u001b[0m\n\u001b[0m\u001b[1;32m   3054\u001b[0m         \u001b[0mcls\u001b[0m \u001b[0;34m=\u001b[0m \u001b[0mCategoricalBlock\u001b[0m\u001b[0;34m\u001b[0m\u001b[0;34m\u001b[0m\u001b[0m\n\u001b[1;32m   3055\u001b[0m     \u001b[0;32melif\u001b[0m \u001b[0missubclass\u001b[0m\u001b[0;34m(\u001b[0m\u001b[0mvtype\u001b[0m\u001b[0;34m,\u001b[0m \u001b[0mnp\u001b[0m\u001b[0;34m.\u001b[0m\u001b[0mdatetime64\u001b[0m\u001b[0;34m)\u001b[0m\u001b[0;34m:\u001b[0m\u001b[0;34m\u001b[0m\u001b[0;34m\u001b[0m\u001b[0m\n",
      "\u001b[0;32m~/anaconda3/envs/Data_Mining/lib/python3.6/site-packages/pandas/core/dtypes/common.py\u001b[0m in \u001b[0;36mis_categorical\u001b[0;34m(arr)\u001b[0m\n\u001b[1;32m    289\u001b[0m     \"\"\"\n\u001b[1;32m    290\u001b[0m \u001b[0;34m\u001b[0m\u001b[0m\n\u001b[0;32m--> 291\u001b[0;31m     \u001b[0;32mreturn\u001b[0m \u001b[0misinstance\u001b[0m\u001b[0;34m(\u001b[0m\u001b[0marr\u001b[0m\u001b[0;34m,\u001b[0m \u001b[0mABCCategorical\u001b[0m\u001b[0;34m)\u001b[0m \u001b[0;32mor\u001b[0m \u001b[0mis_categorical_dtype\u001b[0m\u001b[0;34m(\u001b[0m\u001b[0marr\u001b[0m\u001b[0;34m)\u001b[0m\u001b[0;34m\u001b[0m\u001b[0;34m\u001b[0m\u001b[0m\n\u001b[0m\u001b[1;32m    292\u001b[0m \u001b[0;34m\u001b[0m\u001b[0m\n\u001b[1;32m    293\u001b[0m \u001b[0;34m\u001b[0m\u001b[0m\n",
      "\u001b[0;32m~/anaconda3/envs/Data_Mining/lib/python3.6/site-packages/pandas/core/dtypes/common.py\u001b[0m in \u001b[0;36mis_categorical_dtype\u001b[0;34m(arr_or_dtype)\u001b[0m\n\u001b[1;32m    570\u001b[0m \u001b[0;34m\u001b[0m\u001b[0m\n\u001b[1;32m    571\u001b[0m \u001b[0;34m\u001b[0m\u001b[0m\n\u001b[0;32m--> 572\u001b[0;31m \u001b[0;32mdef\u001b[0m \u001b[0mis_categorical_dtype\u001b[0m\u001b[0;34m(\u001b[0m\u001b[0marr_or_dtype\u001b[0m\u001b[0;34m)\u001b[0m\u001b[0;34m:\u001b[0m\u001b[0;34m\u001b[0m\u001b[0;34m\u001b[0m\u001b[0m\n\u001b[0m\u001b[1;32m    573\u001b[0m     \"\"\"\n\u001b[1;32m    574\u001b[0m     \u001b[0mCheck\u001b[0m \u001b[0mwhether\u001b[0m \u001b[0man\u001b[0m \u001b[0marray\u001b[0m\u001b[0;34m-\u001b[0m\u001b[0mlike\u001b[0m \u001b[0;32mor\u001b[0m \u001b[0mdtype\u001b[0m \u001b[0;32mis\u001b[0m \u001b[0mof\u001b[0m \u001b[0mthe\u001b[0m \u001b[0mCategorical\u001b[0m \u001b[0mdtype\u001b[0m\u001b[0;34m.\u001b[0m\u001b[0;34m\u001b[0m\u001b[0;34m\u001b[0m\u001b[0m\n",
      "\u001b[0;31mKeyboardInterrupt\u001b[0m: "
     ]
    }
   ],
   "source": [
    "model_name = [\"100k_item_Landmarks\"\n",
    "    ,\"100k_item_PCA\"\n",
    "    ,\"100K_user_Landmarks\"\n",
    "    ,\"100k_user_PCA\"\n",
    "    ,\"1M_item_Landmarks\"\n",
    "    ,\"1M_item_PCA\"\n",
    "    ,\"1M_user_Landmarks\"\n",
    "    ,\"1M_user_PCA\"]\n",
    "\n",
    "def get_results(db_100k, db_1M, model_name, n_try):\n",
    "\n",
    "    database_list = [db_100k]#, db_1M]\n",
    "    kind_list = [\"item\",\"user\"]\n",
    "    kind_list = [\"user\"]\n",
    "    components_list = [\"Landmarks\", \"PCA\"]\n",
    "    results, ind_name = {},0\n",
    "    \n",
    "    for data in database_list:\n",
    " \n",
    "        for kind in kind_list:\n",
    "        \n",
    "            for components in components_list:\n",
    "                print(model_name[ind_name])\n",
    "                \n",
    "                results[model_name[ind_name]] = grid_search(data, components, kind, n_try)\n",
    "                ind_name+=1\n",
    "                #break\n",
    "            #break\n",
    "        #break\n",
    "    \n",
    "    return results        \n",
    "n_try = 2 #lembrar de arrumar o kfold\n",
    "results = get_results(rat_100k, rat_1M, model_name, n_try)\n",
    "pd.DataFrame.from_dict(results[model_name[0]]).head()"
   ]
  },
  {
   "cell_type": "code",
   "execution_count": null,
   "metadata": {
    "ExecuteTime": {
     "end_time": "2019-05-18T06:38:11.368416Z",
     "start_time": "2019-05-18T06:36:46.312Z"
    },
    "slideshow": {
     "slide_type": "fragment"
    }
   },
   "outputs": [],
   "source": [
    "name = 0  ##entre 0 e 7\n",
    "print(model_name[name])\n",
    "pd.DataFrame.from_dict(results[model_name[name]]).head()"
   ]
  },
  {
   "cell_type": "code",
   "execution_count": null,
   "metadata": {
    "ExecuteTime": {
     "end_time": "2019-05-18T06:38:11.370716Z",
     "start_time": "2019-05-18T06:36:46.317Z"
    },
    "code_folding": [
     0
    ],
    "scrolled": false,
    "slideshow": {
     "slide_type": "subslide"
    }
   },
   "outputs": [],
   "source": [
    "plt.legend(loc='best', fontsize='small')\n",
    "plt.axhline(y=0, linestyle='--', color='k')\n",
    "#gerar gráfico MAE/MSE vs Landmarks com K-Viz fixo\n",
    "plt.rcParams['figure.figsize'] = 16, 6\n",
    "plt.rcParams['axes.labelsize'] = 16\n",
    "#colors_list = [\"blue\",\"green\",\"red\",\"cyan\",\"magenta\",\"yellow\",\"black\",\"white\"]\n",
    "colors_list = ['b-','g-','r-','c-','m-','y-','k-','w-']\n",
    "ind=-1\n",
    "\n",
    "for m in range(8):\n",
    "    #print(model_name[m])\n",
    "    \n",
    "    df = pd.DataFrame.from_dict(results[model_name[m]])\n",
    "    parameters = get_parameters(\"Landmarks\", n_try) #nao generico\n",
    "    for metric in parameters['similarity_metrics']:\n",
    "        for fill_type in parameters['fill_list']:\n",
    "            kn = parameters['k_neighboors_list']\n",
    "            k_viz = kn[1]\n",
    "\n",
    "            mae = df.loc[(df.fill_na == fill_type)&(df.Sim_Metric == metric)&(df.k_neighboors ==k_viz)].mae_test\n",
    "            mse = df.loc[(df.fill_na == fill_type)&(df.Sim_Metric == metric)&(df.k_neighboors ==k_viz)].mse_test\n",
    "            te=df.loc[(df.fill_na == fill_type)&(df.Sim_Metric==metric)&(df.k_neighboors ==k_viz)].elapsed_time\n",
    "            components = parameters[\"components_list\"]\n",
    "            ind+=1\n",
    "\n",
    "            plt.subplot(1,3,1)\n",
    "            plt.title('MAE - k-vizinhos: '+ str(k_viz))\n",
    "            plt.ylabel('MAE')\n",
    "            plt.xlabel('Nº de Landmarks')\n",
    "            label = model_name[m]+' '+ metric\n",
    "            plt.plot(components,mae, colors_list[ind], label=label)\n",
    "            #plt.legend()\n",
    "\n",
    "\n",
    "            plt.subplot(1,3,2)\n",
    "            plt.title('RMSE - k-vizinhos: '+ str(k_viz))\n",
    "            plt.ylabel('RMSE')\n",
    "            plt.xlabel('Nº de Landmarks')\n",
    "            plt.plot(components,mse, colors_list[ind], label=label)\n",
    "            plt.legend()\n",
    "            \n",
    "\n",
    "            plt.subplot(1,3,3)\n",
    "            plt.title('Tempo - k-vizinhos: '+ str(k_viz))\n",
    "            plt.ylabel('Tempo')\n",
    "            plt.xlabel('Nº de Landmarks')\n",
    "            plt.plot(components,te, colors_list[ind], label=label)\n",
    "            #plt.legend()\n",
    "            #break\n",
    "        #break\n",
    "        \n",
    "plt.tight_layout()\n",
    "plt.show()"
   ]
  },
  {
   "cell_type": "code",
   "execution_count": null,
   "metadata": {
    "ExecuteTime": {
     "end_time": "2019-05-18T06:38:11.373243Z",
     "start_time": "2019-05-18T06:36:46.321Z"
    },
    "code_folding": [
     0
    ],
    "scrolled": false,
    "slideshow": {
     "slide_type": "subslide"
    }
   },
   "outputs": [],
   "source": [
    "#gerar gráfico MAE/MSE vs Kviz com land fixo\n",
    "ind=-1\n",
    "for m in range(8):\n",
    "    #print(model_name[m])\n",
    "    \n",
    "    df = pd.DataFrame.from_dict(results[model_name[m]])\n",
    "    parameters = get_parameters(\"Landmarks\", n_try) #nao generico\n",
    "    for metric in parameters['similarity_metrics']:\n",
    "        for fill_type in parameters['fill_list']:\n",
    "            comp = parameters['components_list']\n",
    "            cp=comp[1]\n",
    "\n",
    "            mae = df.loc[(df.fill_na == fill_type)&(df.Sim_Metric == metric)&(df.Components == cp)].mae_test\n",
    "            mse = df.loc[(df.fill_na == fill_type)&(df.Sim_Metric == metric)&(df.Components == cp)].mse_test\n",
    "            te=df.loc[(df.fill_na == fill_type)&(df.Sim_Metric==metric)&(df.Components ==cp)].elapsed_time\n",
    "            k_vizinhos = parameters['k_neighboors_list']\n",
    "            ind+=1\n",
    " \n",
    "            plt.subplot(1,3,1)\n",
    "            plt.title('MAE - Landmarks: '+ str(cp))\n",
    "            plt.ylabel('MAE')\n",
    "            plt.xlabel('Nº de vizinhos (k)')\n",
    "            label = model_name[m]+' '+ metric\n",
    "            plt.plot(k_vizinhos, mae, colors_list[ind])#, label=label)\n",
    "            #plt.legend()\n",
    "\n",
    "            \n",
    "            plt.subplot(1,3,2)\n",
    "            plt.title('RMSE - Landmarks: '+ str(cp))\n",
    "            plt.ylabel('RMSE')\n",
    "            plt.xlabel('Nº de vizinhos (k)')\n",
    "            plt.plot(k_vizinhos, mse, colors_list[ind], label=label)\n",
    "            plt.legend()\n",
    "            \n",
    "            \n",
    "            plt.subplot(1,3,3)\n",
    "            plt.title('Tempo - Landmarks: '+ str(cp))\n",
    "            plt.ylabel('Tempo')\n",
    "            plt.xlabel('Nº de Vizinhos (k)')\n",
    "            plt.plot(k_vizinhos,te, colors_list[ind], label=label)\n",
    "            #plt.legend()\n",
    "        \n",
    "plt.tight_layout()\n",
    "plt.show()"
   ]
  },
  {
   "cell_type": "code",
   "execution_count": 191,
   "metadata": {
    "ExecuteTime": {
     "end_time": "2019-05-18T14:18:19.613115Z",
     "start_time": "2019-05-18T14:18:19.603217Z"
    },
    "scrolled": false
   },
   "outputs": [
    {
     "data": {
      "text/plain": [
       "2"
      ]
     },
     "execution_count": 191,
     "metadata": {},
     "output_type": "execute_result"
    }
   ],
   "source": [
    "n_try"
   ]
  },
  {
   "cell_type": "code",
   "execution_count": 131,
   "metadata": {
    "ExecuteTime": {
     "end_time": "2019-05-18T07:35:38.491679Z",
     "start_time": "2019-05-18T07:35:38.485953Z"
    }
   },
   "outputs": [],
   "source": [
    "c = np.ones((10,1664))\n",
    "b = np.ones((10,1)).T\n",
    "\n",
    "a = np.matmul(b,c)\n",
    "\n",
    "aa = np.matmul(a.T,b).T"
   ]
  },
  {
   "cell_type": "code",
   "execution_count": 126,
   "metadata": {
    "ExecuteTime": {
     "end_time": "2019-05-18T07:30:38.550743Z",
     "start_time": "2019-05-18T07:30:38.544802Z"
    }
   },
   "outputs": [
    {
     "data": {
      "text/plain": [
       "(10, 1664)"
      ]
     },
     "execution_count": 126,
     "metadata": {},
     "output_type": "execute_result"
    }
   ],
   "source": [
    "aa.shape"
   ]
  },
  {
   "cell_type": "code",
   "execution_count": 132,
   "metadata": {
    "ExecuteTime": {
     "end_time": "2019-05-18T07:35:53.233575Z",
     "start_time": "2019-05-18T07:35:53.227471Z"
    }
   },
   "outputs": [
    {
     "data": {
      "text/plain": [
       "(1, 10)"
      ]
     },
     "execution_count": 132,
     "metadata": {},
     "output_type": "execute_result"
    }
   ],
   "source": [
    "b.shape"
   ]
  },
  {
   "cell_type": "code",
   "execution_count": null,
   "metadata": {
    "ExecuteTime": {
     "end_time": "2019-05-18T04:13:58.492162Z",
     "start_time": "2019-05-18T04:11:47.968Z"
    }
   },
   "outputs": [],
   "source": []
  },
  {
   "cell_type": "markdown",
   "metadata": {
    "ExecuteTime": {
     "end_time": "2019-05-16T03:24:14.994784Z",
     "start_time": "2019-05-16T03:23:07.712Z"
    }
   },
   "source": [
    "# Lixo"
   ]
  },
  {
   "cell_type": "code",
   "execution_count": null,
   "metadata": {
    "ExecuteTime": {
     "end_time": "2019-05-18T06:38:11.376073Z",
     "start_time": "2019-05-18T06:36:46.453Z"
    }
   },
   "outputs": [],
   "source": [
    "df = pd.DataFrame.from_dict(results[model_name[0]])\n",
    "columns=[\"fold\", \"fill_na\", \"Sim_Metric\", \"Components\", \"k_neighboors\", \"mae_test\", \"mse_test\", \"elapsed_time\"]\n",
    "\n",
    "#Agregate mae\n",
    "df.groupby(columns[1:5]).mae_test.agg([\"mean\"])"
   ]
  },
  {
   "cell_type": "code",
   "execution_count": null,
   "metadata": {
    "ExecuteTime": {
     "end_time": "2019-05-18T06:38:11.378883Z",
     "start_time": "2019-05-18T06:36:46.458Z"
    }
   },
   "outputs": [],
   "source": [
    "n=0\n",
    "toy1 = np.array([[2,n,n,5,1,n],[n,n,3,4,3,1],[3,1,3,n,5,n],[n,4,n,n,5,3],[n,1,2,3,n,n],[1,n,2,n,2,n]])\n",
    "\n",
    "toy3 = np.array([[1.0, .88, .48, .97, .90, .99],[.88,1.0,0,.73,.58,.94],[.48, 0, 1.0, .69, .82, .35],[.97, .73, .69, 1.0, .98, .92],[.9, .58, .82, .98, 1.0, .83],[.99, .94, .35, .92, .83, 1.0]])"
   ]
  },
  {
   "cell_type": "code",
   "execution_count": null,
   "metadata": {
    "ExecuteTime": {
     "end_time": "2019-05-18T06:38:11.381453Z",
     "start_time": "2019-05-18T06:36:46.463Z"
    }
   },
   "outputs": [],
   "source": [
    "np.dot([1,1],(toy3[0:2,2]-[1,2]))"
   ]
  },
  {
   "cell_type": "code",
   "execution_count": 137,
   "metadata": {
    "ExecuteTime": {
     "end_time": "2019-05-18T07:38:35.492471Z",
     "start_time": "2019-05-18T07:38:35.485051Z"
    }
   },
   "outputs": [
    {
     "data": {
      "text/plain": [
       "(1, 4)"
      ]
     },
     "execution_count": 137,
     "metadata": {},
     "output_type": "execute_result"
    }
   ],
   "source": [
    "X = np.array([i for i in range(4)]).reshape((-1, 1)).T\n",
    "#X = X.reshape((-1, 1)).T\n",
    "\n",
    "X.shape"
   ]
  },
  {
   "cell_type": "code",
   "execution_count": null,
   "metadata": {
    "ExecuteTime": {
     "end_time": "2019-05-18T06:38:11.384428Z",
     "start_time": "2019-05-18T06:36:46.471Z"
    }
   },
   "outputs": [],
   "source": [
    "from sklearn.metrics.pairwise import euclidean_distances\n",
    "c=np.array([[3,3,5],[1,2,2]])\n",
    "euclidean_distances(c)\n"
   ]
  },
  {
   "cell_type": "code",
   "execution_count": null,
   "metadata": {
    "ExecuteTime": {
     "end_time": "2019-05-18T06:38:11.387027Z",
     "start_time": "2019-05-18T06:36:46.475Z"
    }
   },
   "outputs": [],
   "source": [
    "from sklearn.neighbors import KNeighborsRegressor, KNeighborsClassifier, NearestNeighbors\n",
    "from sklearn.metrics import mean_absolute_error, mean_squared_error\n",
    "import math\n",
    "from math import sqrt\n",
    "import mglearn\n",
    "\n",
    "def predict_r(X_train, X_test, y_train, y_test, k_neighboors):\n",
    "    \n",
    "    #knn=KNeighborsRegressor(k_neighboors, weights=\"distance\", metric=\"cosine\")\n",
    "    knn=KNeighborsRegressor(k_neighboors,  weights=\"distance\", metric=\"euclidean\")\n",
    "    \n",
    "    \n",
    "    y_pred = knn.fit(X_train, y_train).predict(X_test)\n",
    "    \n",
    "    mae_test = mean_absolute_error(y_test, y_pred)\n",
    "    mse_test = math.sqrt(mean_squared_error(y_test, y_pred))\n",
    "\n",
    "    \n",
    "    top_k_distances, top_k_users = knn.kneighbors(X_train, return_distance = True)\n",
    "    print(\"#######\")\n",
    "    print(top_k_distances)\n",
    "    print(\"----\")\n",
    "    print(top_k_users) \n",
    "    #print(\"X_train: \", X_train.shape)\n",
    "    #print(\"X_test: \", X_test.shape)\n",
    "    #print(\"y_train: \", y_train.shape)\n",
    "    #print(\"y_test: \", y_test.shape)\n",
    "    #print(\"y_pred\", y_pred.shape)\n",
    "    #print(\"y_pred\", y_pred)\n",
    "    #print(\"y_test: \", y_test)\n",
    "    \n",
    "    print(\"#######\")\n",
    "\n",
    "    return mae_test, mse_test"
   ]
  },
  {
   "cell_type": "code",
   "execution_count": null,
   "metadata": {
    "ExecuteTime": {
     "end_time": "2019-05-18T06:38:11.389151Z",
     "start_time": "2019-05-18T06:36:46.481Z"
    },
    "code_folding": [
     0
    ],
    "scrolled": true
   },
   "outputs": [],
   "source": [
    "#Toy\n",
    "from sklearn.model_selection import train_test_split\n",
    "\n",
    "n= None\n",
    "toy1 = np.array([[2,n,n,5,1,n],[n,n,3,4,3,1],[3,1,3,n,5,n],[n,4,n,n,5,3],[n,1,2,3,n,n],[1,n,2,n,2,n]])\n",
    "\n",
    "toy3 = np.array([[1.0, .88, .48, .97, .90, .99],[.88,1.0,0,.73,.58,.94],[.48, 0, 1.0, .69, .82, .35],[.97, .73, .69, 1.0, .98, .92],[.9, .58, .82, .98, 1.0, .83],[.99, .94, .35, .92, .83, 1.0]])\n",
    "\n",
    "m = [2,2,2.5,4,16/5, 2]\n",
    "toy2 = np.array([[2,m[1],m[2],5,1,m[5]],[m[0],m[1],3,4,3,1],[3,1,3,m[3],5,m[5]],[m[0],4,m[2],m[3],5,3],[m[0],1,2,3,m[4],m[5]],[1,m[1],2,m[3],2,m[5]]])\n",
    "\n",
    "\n",
    "\n",
    "\n",
    "X = np.linspace(1,10,10)\n",
    "y = np.array([i**2 for i in X])\n",
    "\n",
    "X_train = np.array(X[::2]).reshape((-1, 1))\n",
    "X_test = np.array(X[1::2]).reshape((-1, 1))\n",
    "\n",
    "X1 = np.array(X[::2])\n",
    "X2 = np.array(X[1::2])\n",
    "\n",
    "\n",
    "y_train = np.array([i**2 for i in X1])#.reshape((-1, 1))\n",
    "y_test = np.array([i**2 for i in X2])#.reshape((-1, 1))\n",
    "\n",
    "\n",
    "X, y = mglearn.datasets.make_wave(n_samples=40)\n",
    "\n",
    "\n",
    "\n",
    "X = np.linspace(1,10,10)\n",
    "y = np.array([i**2 for i in X])\n",
    "X = X.reshape((-1, 1))\n",
    "\n",
    "\n",
    "X=toy3\n",
    "y=toy2\n",
    "\n",
    "X_train, X_test, y_train, y_test = train_test_split(X, y, random_state=0)\n",
    "\n",
    "\n",
    "print(\"X_train: \", X_train.shape)\n",
    "print(\"X_test: \", X_test.shape)\n",
    "print(\"y_train: \", y_train.shape)\n",
    "print(\"y_test: \", y_test.shape)\n",
    "\n",
    "print(\"X_train: \", X_train)\n",
    "print(\"X_test: \", X_test)\n",
    "#print(\"y_train: \", y_train)\n",
    "#print(\"y_test: \", y_test)\n",
    "\n",
    "\n",
    "\n",
    "\n",
    "for k_neighboors in range(1,5):\n",
    "    mae, mse = predict_r(X_train, X_test, y_train, y_test, k_neighboors)\n",
    "    print(mae, mse)"
   ]
  },
  {
   "cell_type": "code",
   "execution_count": null,
   "metadata": {
    "ExecuteTime": {
     "end_time": "2019-05-18T06:38:11.392125Z",
     "start_time": "2019-05-18T06:36:46.488Z"
    }
   },
   "outputs": [],
   "source": [
    "#X = [[0], [1], [2], [3]]\n",
    "#y = [0, 0, 1, 1]\n",
    "\n",
    "\n",
    "X = np.array([i for i in range(4)])\n",
    "X = X.reshape((-1, 1))\n",
    "y = np.array([i**3 for i in X])\n",
    "\n",
    "\n",
    "from sklearn.neighbors import KNeighborsRegressor\n",
    "neigh = KNeighborsRegressor(n_neighbors=2).fit(X, y) \n",
    "\n",
    "\n",
    "print(neigh.predict([[5]]))"
   ]
  },
  {
   "cell_type": "code",
   "execution_count": null,
   "metadata": {
    "ExecuteTime": {
     "end_time": "2019-05-18T06:38:11.394909Z",
     "start_time": "2019-05-18T06:36:46.494Z"
    }
   },
   "outputs": [],
   "source": [
    "\n",
    "   #predict_rating(SM_train, SM_test, y_train_filled, y_test_filled, y_train_sparse, y_test_sparse, kn)\n",
    "def predict_rating(X_train, X_test, y_train, y_test, y_train_sparse, y_test_sparse, k_neighboors):\n",
    "    \n",
    "    X = X_test\n",
    "    y = y_test\n",
    "    #return np.random.randint(1,10)/2,np.random.randint(1,10)/2\n",
    "    \n",
    "    pred_ratings = np.zeros((len(y.index), len(y.columns)))\n",
    "    users = X.index\n",
    "    itens = y.columns\n",
    "    users_mean = y.mean(1)\n",
    "\n",
    "    for user in users:\n",
    "        \n",
    "        \n",
    "    #lista dos vizinhos (u') mais proximos de U\n",
    "    K_viz_list = X[user].sort_values(ascending=False).index[1: 1+k_neighboors]\n",
    "\n",
    "    #media do usuario\n",
    "    u_bar = users_mean[user]\n",
    "\n",
    "    #elementos da SM que vao ser usados\n",
    "    S_uu = X[user][K_viz_list]\n",
    "    \n",
    "    for item in itens:\n",
    "\n",
    "        # r_u'v - u'.mean()\n",
    "        r_uv = [y[k][item] - users_mean[k] for k in K_viz_list]\n",
    "\n",
    "            #nota predita\n",
    "            pred_ratings[user][item]  = (np.dot(S_uu,  r_uv)/sum(S_uu)) + u_bar\n",
    "\n",
    "\n",
    "            y_pred[user][item] = pred_rating_uv\n",
    "\n",
    "    \n",
    "    \n",
    "    \n",
    "    print(y_pred)\n",
    "    erro=br\n",
    "    mae_test = mean_absolute_error(y_test, y_pred)\n",
    "    mse_test = math.sqrt(mean_squared_error(y_test, y_pred))\n",
    "\n",
    "\n",
    "    return knn, mae_test, mse_test\n"
   ]
  },
  {
   "cell_type": "code",
   "execution_count": null,
   "metadata": {
    "ExecuteTime": {
     "end_time": "2019-05-18T06:38:11.397469Z",
     "start_time": "2019-05-18T06:36:46.500Z"
    }
   },
   "outputs": [],
   "source": []
  },
  {
   "cell_type": "code",
   "execution_count": null,
   "metadata": {
    "ExecuteTime": {
     "end_time": "2019-05-18T06:38:11.400626Z",
     "start_time": "2019-05-18T06:36:46.505Z"
    }
   },
   "outputs": [],
   "source": []
  },
  {
   "cell_type": "code",
   "execution_count": null,
   "metadata": {
    "ExecuteTime": {
     "end_time": "2019-05-18T06:38:11.403126Z",
     "start_time": "2019-05-18T06:36:46.510Z"
    }
   },
   "outputs": [],
   "source": []
  },
  {
   "cell_type": "code",
   "execution_count": null,
   "metadata": {
    "ExecuteTime": {
     "end_time": "2019-05-18T06:38:11.406135Z",
     "start_time": "2019-05-18T06:36:46.515Z"
    }
   },
   "outputs": [],
   "source": [
    "toy3[1::,1::]"
   ]
  },
  {
   "cell_type": "code",
   "execution_count": null,
   "metadata": {
    "ExecuteTime": {
     "end_time": "2019-05-18T06:38:11.409137Z",
     "start_time": "2019-05-18T06:36:46.519Z"
    }
   },
   "outputs": [],
   "source": [
    "rpf, rps = fill_na(rat_100k, \"user\", \"mean\")\n",
    "rpf.head()"
   ]
  },
  {
   "cell_type": "code",
   "execution_count": 190,
   "metadata": {
    "ExecuteTime": {
     "end_time": "2019-05-18T14:17:56.433923Z",
     "start_time": "2019-05-18T14:17:56.330195Z"
    }
   },
   "outputs": [
    {
     "ename": "NameError",
     "evalue": "name 'rpf' is not defined",
     "output_type": "error",
     "traceback": [
      "\u001b[0;31m---------------------------------------------------------------------------\u001b[0m",
      "\u001b[0;31mNameError\u001b[0m                                 Traceback (most recent call last)",
      "\u001b[0;32m<ipython-input-190-d08e0e6ee2af>\u001b[0m in \u001b[0;36m<module>\u001b[0;34m\u001b[0m\n\u001b[0;32m----> 1\u001b[0;31m \u001b[0mf\u001b[0m \u001b[0;34m=\u001b[0m \u001b[0mrpf\u001b[0m\u001b[0;34m\u001b[0m\u001b[0;34m\u001b[0m\u001b[0m\n\u001b[0m\u001b[1;32m      2\u001b[0m \u001b[0mf\u001b[0m\u001b[0;34m.\u001b[0m\u001b[0miloc\u001b[0m\u001b[0;34m[\u001b[0m\u001b[0;34m[\u001b[0m\u001b[0;36m0\u001b[0m\u001b[0;34m,\u001b[0m\u001b[0;36m1\u001b[0m\u001b[0;34m,\u001b[0m\u001b[0;36m2\u001b[0m\u001b[0;34m]\u001b[0m\u001b[0;34m]\u001b[0m\u001b[0;34m\u001b[0m\u001b[0;34m\u001b[0m\u001b[0m\n",
      "\u001b[0;31mNameError\u001b[0m: name 'rpf' is not defined"
     ]
    }
   ],
   "source": [
    "f = rpf\n",
    "f.iloc[[0,1,2]]"
   ]
  },
  {
   "cell_type": "code",
   "execution_count": null,
   "metadata": {
    "ExecuteTime": {
     "end_time": "2019-05-18T06:38:11.413825Z",
     "start_time": "2019-05-18T06:36:46.531Z"
    }
   },
   "outputs": [],
   "source": [
    "10**2.7"
   ]
  },
  {
   "cell_type": "code",
   "execution_count": null,
   "metadata": {
    "ExecuteTime": {
     "end_time": "2019-05-18T06:38:11.416057Z",
     "start_time": "2019-05-18T06:36:46.535Z"
    }
   },
   "outputs": [],
   "source": [
    "10**2.7"
   ]
  },
  {
   "cell_type": "code",
   "execution_count": null,
   "metadata": {
    "ExecuteTime": {
     "end_time": "2019-05-18T06:38:11.418376Z",
     "start_time": "2019-05-18T06:36:46.540Z"
    }
   },
   "outputs": [],
   "source": [
    "rpf"
   ]
  },
  {
   "cell_type": "code",
   "execution_count": null,
   "metadata": {},
   "outputs": [],
   "source": []
  }
 ],
 "metadata": {
  "celltoolbar": "Slideshow",
  "hide_input": false,
  "kernelspec": {
   "display_name": "Python 3",
   "language": "python",
   "name": "python3"
  },
  "language_info": {
   "codemirror_mode": {
    "name": "ipython",
    "version": 3
   },
   "file_extension": ".py",
   "mimetype": "text/x-python",
   "name": "python",
   "nbconvert_exporter": "python",
   "pygments_lexer": "ipython3",
   "version": "3.6.8"
  },
  "latex_envs": {
   "LaTeX_envs_menu_present": true,
   "autoclose": true,
   "autocomplete": true,
   "bibliofile": "biblio.bib",
   "cite_by": "apalike",
   "current_citInitial": 1,
   "eqLabelWithNumbers": true,
   "eqNumInitial": 1,
   "hotkeys": {
    "equation": "Ctrl-E",
    "itemize": "Ctrl-I"
   },
   "labels_anchors": false,
   "latex_user_defs": false,
   "report_style_numbering": true,
   "user_envs_cfg": true
  },
  "toc": {
   "base_numbering": 1,
   "nav_menu": {},
   "number_sections": true,
   "sideBar": true,
   "skip_h1_title": false,
   "title_cell": "Table of Contents",
   "title_sidebar": "Contents",
   "toc_cell": false,
   "toc_position": {},
   "toc_section_display": true,
   "toc_window_display": false
  },
  "varInspector": {
   "cols": {
    "lenName": 16,
    "lenType": 16,
    "lenVar": 40
   },
   "kernels_config": {
    "python": {
     "delete_cmd_postfix": "",
     "delete_cmd_prefix": "del ",
     "library": "var_list.py",
     "varRefreshCmd": "print(var_dic_list())"
    },
    "r": {
     "delete_cmd_postfix": ") ",
     "delete_cmd_prefix": "rm(",
     "library": "var_list.r",
     "varRefreshCmd": "cat(var_dic_list()) "
    }
   },
   "types_to_exclude": [
    "module",
    "function",
    "builtin_function_or_method",
    "instance",
    "_Feature"
   ],
   "window_display": false
  }
 },
 "nbformat": 4,
 "nbformat_minor": 2
}
