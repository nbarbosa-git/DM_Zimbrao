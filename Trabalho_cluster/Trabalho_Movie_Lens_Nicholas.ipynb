{
 "cells": [
  {
   "cell_type": "raw",
   "metadata": {},
   "source": [
    "<script>\n",
    "  function code_toggle() {\n",
    "    if (code_shown){\n",
    "      $('div.input').hide('500');\n",
    "      $('#toggleButton').val('Show Code')\n",
    "    } else {\n",
    "      $('div.input').show('500');\n",
    "      $('#toggleButton').val('Hide Code')\n",
    "    }\n",
    "    code_shown = !code_shown\n",
    "  }\n",
    "\n",
    "  $( document ).ready(function(){\n",
    "    code_shown=false;\n",
    "    $('div.input').hide()\n",
    "  });\n",
    "</script>\n",
    "<form action=\"javascript:code_toggle()\"><input type=\"submit\" id=\"toggleButton\" value=\"Show Code\"></form>"
   ]
  },
  {
   "cell_type": "raw",
   "metadata": {},
   "source": [
    "<script>\n",
    "  $(document).ready(function(){\n",
    "    $('div.prompt').hide();\n",
    "    $('div.back-to-top').hide();\n",
    "    $('nav#menubar').hide();\n",
    "    $('.breadcrumb').hide();\n",
    "    $('.hidden-print').hide();\n",
    "  });\n",
    "</script>\n",
    "\n",
    "<footer id=\"attribution\" style=\"float:right; color:#999; background:#fff;\">\n",
    "Created with Jupyter, delivered by Fastly, rendered by Rackspace.\n",
    "</footer>"
   ]
  },
  {
   "cell_type": "markdown",
   "metadata": {},
   "source": [
    "# Relatório Regras de Associação - Nicholas Richers"
   ]
  },
  {
   "cell_type": "markdown",
   "metadata": {},
   "source": [
    "# Linguagem:\n",
    "* Para a realização dessa análise foi utilizada a linguagem __python (v.3.6)__, com o auxílio das bibliotecas __Pandas__ e __Mlextend__"
   ]
  },
  {
   "cell_type": "code",
   "execution_count": 1,
   "metadata": {
    "ExecuteTime": {
     "end_time": "2019-04-06T00:46:33.148615Z",
     "start_time": "2019-04-06T00:46:31.919542Z"
    }
   },
   "outputs": [],
   "source": [
    "#bibliotecas utilizadas\n",
    "import pandas as pd\n",
    "from mlxtend.frequent_patterns import apriori\n",
    "from mlxtend.frequent_patterns import association_rules"
   ]
  },
  {
   "cell_type": "markdown",
   "metadata": {},
   "source": [
    "# Preparação dos Dados:\n",
    "\n",
    "* Limpeza do dataset:\n",
    "    * Obs: Haviam 18 filmes com Id duplicado, que foram removidos"
   ]
  },
  {
   "cell_type": "code",
   "execution_count": 2,
   "metadata": {
    "ExecuteTime": {
     "end_time": "2019-04-06T00:46:33.970585Z",
     "start_time": "2019-04-06T00:46:33.152779Z"
    }
   },
   "outputs": [],
   "source": [
    "#carregando os datasets de ratings\n",
    "ratings_100k = pd.read_csv('./ml-100k/u.data', header=None, delimiter=\"\\t\" )\n",
    "ratings_1M = pd.read_csv('./ml-1m/ratings.dat', header=None, delimiter=\":\" )\n",
    "\n",
    "\n",
    "#carregando os datasets de filmes\n",
    "movies_100k = pd.read_csv('./ml-100k/u.item', header=None, sep='|' , encoding='latin-1')\n",
    "movies_1M = pd.read_csv('./ml-1m/movies.dat', header=None, sep=';' , encoding='latin-1')"
   ]
  },
  {
   "cell_type": "code",
   "execution_count": 3,
   "metadata": {
    "ExecuteTime": {
     "end_time": "2019-04-06T00:46:35.235559Z",
     "start_time": "2019-04-06T00:46:33.975241Z"
    }
   },
   "outputs": [],
   "source": [
    "#funcão para limpar os datasets\n",
    "def setup_BD(ratings, movies):\n",
    "    \n",
    "    #retira as colunas 2 e 3 da tabela rating e renomeia\n",
    "    ratings.drop([2,3], axis=1, inplace=True)\n",
    "    ratings.columns = ['User', 'Movie_Id']\n",
    "    \n",
    "    #seleciona apenas as colunas 0 e 1 da tabela movies e renomeia\n",
    "    movies = movies.loc[:,[0,1]]\n",
    "    movies.columns = ['Movie_Id', 'Movie']\n",
    "    \n",
    "    \n",
    "    #Crinado um merge dos 2 datasets\n",
    "    ratings = ratings.merge(movies,on='Movie_Id')\n",
    "    ratings = ratings.loc[:,['User', 'Movie']]\n",
    "    ratings.sort_values('User').head()\n",
    "    \n",
    "    \n",
    "    #Limpando os registros duplicados\n",
    "    ratings = ratings.drop_duplicates(keep='first')\n",
    "    \n",
    "    return ratings, movies\n",
    "\n",
    "#obter os datasets limpos\n",
    "ratings_100k, movies_100k = setup_BD(ratings_100k, movies_100k)\n",
    "ratings_1M, movies_1M = setup_BD(ratings_1M, movies_1M)"
   ]
  },
  {
   "cell_type": "markdown",
   "metadata": {},
   "source": [
    "# Criação das Regras de Associação\n",
    "\n",
    "* Passo 1: Criar uma __tabela pivot__ com os filmes vistos por cada usuário em formato de vetor [0,1].\n",
    "\n",
    "\n",
    "* Passo 2: Através do __algoritmo apriori__ selecionamos o item (ou grupo de itens, com max_len=2), para um __suporte mínimo__ desejado.\n",
    "\n",
    "\n",
    "* Passo 3: Finalmente, devemos gerar as __regra de associacão__ para o __nível de confiança__ desejado."
   ]
  },
  {
   "cell_type": "code",
   "execution_count": 4,
   "metadata": {
    "ExecuteTime": {
     "end_time": "2019-04-06T00:47:01.943226Z",
     "start_time": "2019-04-06T00:46:35.241074Z"
    }
   },
   "outputs": [
    {
     "name": "stdout",
     "output_type": "stream",
     "text": [
      "Dataset 100k:\n",
      "Suporte = 0.3, Confiaça = 0.58, Qtde. Regras = 100\n",
      "\n",
      "Dataset 1M:\n",
      "Suporte = 0.3, Confiaça = 0.58, Qtde. Regras = 40\n"
     ]
    }
   ],
   "source": [
    "# Coloca 0 e 1 em todos os elementos do vetor\n",
    "def hot_encoded(x):\n",
    "    if x == 0: return 0     \n",
    "    else: return 1  \n",
    "\n",
    "\n",
    "def create_rules(ratings,sup,con):\n",
    "    \n",
    "    #1 Cria uma tabela pivot\n",
    "    basket = (ratings.pivot(index='User', columns='Movie', values='User').fillna(0))\n",
    "    basket_sets = basket.applymap(hot_encoded)\n",
    "    \n",
    "    #2 Algoritmo apriori com regra de tamanho 2, e suporte mínimo\n",
    "    frequent_itemsets = apriori(basket_sets, min_support=sup, use_colnames=True, max_len=2)\n",
    "    \n",
    "    #3 cria as regras de associacao para a confiança\n",
    "    rules = association_rules(frequent_itemsets, metric=\"confidence\", min_threshold=con)\n",
    "    print('Suporte = {}, Confiaça = {}, Qtde. Regras = {}'.format(sup, con, rules.antecedents.count()))\n",
    "\n",
    "    \n",
    "    return basket_sets, rules\n",
    "\n",
    "\n",
    "suport = 0.3\n",
    "confidence = 0.58\n",
    "\n",
    "print(\"Dataset 100k:\")\n",
    "basket_sets_100k, rules_100k = create_rules(ratings_100k,suport, confidence)\n",
    "\n",
    "print(\"\\nDataset 1M:\")\n",
    "basket_sets_1M, rules_1M= create_rules(ratings_1M, suport, confidence)"
   ]
  },
  {
   "cell_type": "markdown",
   "metadata": {
    "ExecuteTime": {
     "end_time": "2019-03-28T04:08:58.372751Z",
     "start_time": "2019-03-28T04:08:58.170264Z"
    }
   },
   "source": [
    "# Regras Adicionais\n",
    "\n",
    "* Devemos criar algumas regras adicionais não inclusas na bibilioteca utilizada para completar a tabela de regras solicitada.\n",
    "\n",
    "## Lift (B,!C)\n",
    "\n",
    "$$Lift(B,!C) = (Suporte(B) - Suporte) / (1 - Suporte(C))$$"
   ]
  },
  {
   "cell_type": "markdown",
   "metadata": {},
   "source": [
    "## $\\chi^{2}$ Test\n",
    "* De acordo com [1], podemos obter $\\chi^{2}$ em função do suporte, da confiança e do Lift, logo temos:\n",
    "\n",
    "\\begin{equation}\n",
    "  \\chi^{2} = \\frac{P(B) P(C)}{((1-P(B)) (1-P(C)))}\n",
    "\\end{equation}\n",
    "\n",
    "\n",
    "[1] S. Alvarez.  Chi-squared computation for association rules: preliminary results.  Computer ScienceDept. Boston College, 2003"
   ]
  },
  {
   "cell_type": "code",
   "execution_count": 5,
   "metadata": {
    "ExecuteTime": {
     "end_time": "2019-04-06T00:47:01.993603Z",
     "start_time": "2019-04-06T00:47:01.947320Z"
    }
   },
   "outputs": [],
   "source": [
    "def additional_rules(rules,basket_sets):\n",
    "    \n",
    "    \n",
    "    #cria regra Lift(B,!C)\n",
    "    rules['neg_lift'] = ((rules['antecedent support']-rules['support'])/(1-rules['consequent support']))\n",
    "    \n",
    "    \n",
    "    #cria regra chi-squared\n",
    "    rules['chi_sq'] = basket_sets.shape[1]* ((rules['antecedent support']*rules['consequent support'])/\n",
    "                                             (1-rules['antecedent support'])*(1-rules['consequent support']))\n",
    "    \n",
    "    \n",
    "    #cria tabela apenas com os parâmetros pedidos\n",
    "    rules = rules.loc[:, ['antecedents', 'consequents', 'support', 'confidence', 'lift', 'neg_lift', 'chi_sq']]\n",
    "    \n",
    "\n",
    "    return rules\n",
    "\n",
    "rules_100k = additional_rules(rules_100k, basket_sets_100k)\n",
    "rules_1M = additional_rules(rules_1M, basket_sets_1M)"
   ]
  },
  {
   "cell_type": "markdown",
   "metadata": {
    "ExecuteTime": {
     "end_time": "2019-03-28T04:08:58.402954Z",
     "start_time": "2019-03-28T04:08:58.393150Z"
    }
   },
   "source": [
    "# Análise das Regras\n",
    "## Dataset 100k\n",
    "\n",
    "* Ao ordenar as melhores regras pelo \"Lift\",  não foi encontrad __nenhuma relação__ com as melhores regras através do \"Chi_Sq\", através das duas tabelas abaixo, percebe-se que não há __nenhuma repetição de regra__, nem de antedecente, e apenas um consequente (Independence Day (ID4) (1996)) foi encontrado em ambos os casos."
   ]
  },
  {
   "cell_type": "code",
   "execution_count": 6,
   "metadata": {
    "ExecuteTime": {
     "end_time": "2019-04-06T00:47:02.040811Z",
     "start_time": "2019-04-06T00:47:01.998108Z"
    },
    "cell_style": "center"
   },
   "outputs": [
    {
     "data": {
      "text/html": [
       "<div>\n",
       "<style scoped>\n",
       "    .dataframe tbody tr th:only-of-type {\n",
       "        vertical-align: middle;\n",
       "    }\n",
       "\n",
       "    .dataframe tbody tr th {\n",
       "        vertical-align: top;\n",
       "    }\n",
       "\n",
       "    .dataframe thead th {\n",
       "        text-align: right;\n",
       "    }\n",
       "</style>\n",
       "<table border=\"1\" class=\"dataframe\">\n",
       "  <thead>\n",
       "    <tr style=\"text-align: right;\">\n",
       "      <th></th>\n",
       "      <th>antecedents</th>\n",
       "      <th>consequents</th>\n",
       "      <th>support</th>\n",
       "      <th>confidence</th>\n",
       "      <th>lift</th>\n",
       "      <th>neg_lift</th>\n",
       "      <th>chi_sq</th>\n",
       "    </tr>\n",
       "  </thead>\n",
       "  <tbody>\n",
       "    <tr>\n",
       "      <th>49</th>\n",
       "      <td>(Independence Day (ID4) (1996))</td>\n",
       "      <td>(Mission: Impossible (1996))</td>\n",
       "      <td>0.332980</td>\n",
       "      <td>0.731935</td>\n",
       "      <td>2.006437</td>\n",
       "      <td>0.191987</td>\n",
       "      <td>321.817291</td>\n",
       "    </tr>\n",
       "    <tr>\n",
       "      <th>48</th>\n",
       "      <td>(Mission: Impossible (1996))</td>\n",
       "      <td>(Independence Day (ID4) (1996))</td>\n",
       "      <td>0.332980</td>\n",
       "      <td>0.912791</td>\n",
       "      <td>2.006437</td>\n",
       "      <td>0.058366</td>\n",
       "      <td>236.963779</td>\n",
       "    </tr>\n",
       "    <tr>\n",
       "      <th>18</th>\n",
       "      <td>(Raiders of the Lost Ark (1981))</td>\n",
       "      <td>(Empire Strikes Back, The (1980))</td>\n",
       "      <td>0.346766</td>\n",
       "      <td>0.778571</td>\n",
       "      <td>2.000525</td>\n",
       "      <td>0.161458</td>\n",
       "      <td>317.662600</td>\n",
       "    </tr>\n",
       "    <tr>\n",
       "      <th>17</th>\n",
       "      <td>(Empire Strikes Back, The (1980))</td>\n",
       "      <td>(Raiders of the Lost Ark (1981))</td>\n",
       "      <td>0.346766</td>\n",
       "      <td>0.891008</td>\n",
       "      <td>2.000525</td>\n",
       "      <td>0.076482</td>\n",
       "      <td>261.893365</td>\n",
       "    </tr>\n",
       "    <tr>\n",
       "      <th>59</th>\n",
       "      <td>(Raiders of the Lost Ark (1981))</td>\n",
       "      <td>(Indiana Jones and the Last Crusade (1989))</td>\n",
       "      <td>0.306469</td>\n",
       "      <td>0.688095</td>\n",
       "      <td>1.960344</td>\n",
       "      <td>0.214052</td>\n",
       "      <td>304.408625</td>\n",
       "    </tr>\n",
       "  </tbody>\n",
       "</table>\n",
       "</div>"
      ],
      "text/plain": [
       "                          antecedents  \\\n",
       "49    (Independence Day (ID4) (1996))   \n",
       "48       (Mission: Impossible (1996))   \n",
       "18   (Raiders of the Lost Ark (1981))   \n",
       "17  (Empire Strikes Back, The (1980))   \n",
       "59   (Raiders of the Lost Ark (1981))   \n",
       "\n",
       "                                    consequents   support  confidence  \\\n",
       "49                 (Mission: Impossible (1996))  0.332980    0.731935   \n",
       "48              (Independence Day (ID4) (1996))  0.332980    0.912791   \n",
       "18            (Empire Strikes Back, The (1980))  0.346766    0.778571   \n",
       "17             (Raiders of the Lost Ark (1981))  0.346766    0.891008   \n",
       "59  (Indiana Jones and the Last Crusade (1989))  0.306469    0.688095   \n",
       "\n",
       "        lift  neg_lift      chi_sq  \n",
       "49  2.006437  0.191987  321.817291  \n",
       "48  2.006437  0.058366  236.963779  \n",
       "18  2.000525  0.161458  317.662600  \n",
       "17  2.000525  0.076482  261.893365  \n",
       "59  1.960344  0.214052  304.408625  "
      ]
     },
     "execution_count": 6,
     "metadata": {},
     "output_type": "execute_result"
    }
   ],
   "source": [
    "#Dataset 100k ordenado pelo lift (5 maiores)\n",
    "rules_100k.sort_values(['lift'], ascending=False).head()"
   ]
  },
  {
   "cell_type": "code",
   "execution_count": 7,
   "metadata": {
    "ExecuteTime": {
     "end_time": "2019-04-06T00:47:02.075386Z",
     "start_time": "2019-04-06T00:47:02.044898Z"
    },
    "cell_style": "center"
   },
   "outputs": [
    {
     "data": {
      "text/html": [
       "<div>\n",
       "<style scoped>\n",
       "    .dataframe tbody tr th:only-of-type {\n",
       "        vertical-align: middle;\n",
       "    }\n",
       "\n",
       "    .dataframe tbody tr th {\n",
       "        vertical-align: top;\n",
       "    }\n",
       "\n",
       "    .dataframe thead th {\n",
       "        text-align: right;\n",
       "    }\n",
       "</style>\n",
       "<table border=\"1\" class=\"dataframe\">\n",
       "  <thead>\n",
       "    <tr style=\"text-align: right;\">\n",
       "      <th></th>\n",
       "      <th>antecedents</th>\n",
       "      <th>consequents</th>\n",
       "      <th>support</th>\n",
       "      <th>confidence</th>\n",
       "      <th>lift</th>\n",
       "      <th>neg_lift</th>\n",
       "      <th>chi_sq</th>\n",
       "    </tr>\n",
       "  </thead>\n",
       "  <tbody>\n",
       "    <tr>\n",
       "      <th>97</th>\n",
       "      <td>(Star Wars (1977))</td>\n",
       "      <td>(Toy Story (1995))</td>\n",
       "      <td>0.404030</td>\n",
       "      <td>0.653516</td>\n",
       "      <td>1.363420</td>\n",
       "      <td>0.411405</td>\n",
       "      <td>672.536590</td>\n",
       "    </tr>\n",
       "    <tr>\n",
       "      <th>86</th>\n",
       "      <td>(Star Wars (1977))</td>\n",
       "      <td>(Return of the Jedi (1983))</td>\n",
       "      <td>0.509014</td>\n",
       "      <td>0.823328</td>\n",
       "      <td>1.531357</td>\n",
       "      <td>0.236239</td>\n",
       "      <td>669.869862</td>\n",
       "    </tr>\n",
       "    <tr>\n",
       "      <th>34</th>\n",
       "      <td>(Star Wars (1977))</td>\n",
       "      <td>(Fargo (1996))</td>\n",
       "      <td>0.417815</td>\n",
       "      <td>0.675815</td>\n",
       "      <td>1.254514</td>\n",
       "      <td>0.434483</td>\n",
       "      <td>669.651675</td>\n",
       "    </tr>\n",
       "    <tr>\n",
       "      <th>54</th>\n",
       "      <td>(Star Wars (1977))</td>\n",
       "      <td>(Independence Day (ID4) (1996))</td>\n",
       "      <td>0.383881</td>\n",
       "      <td>0.620926</td>\n",
       "      <td>1.364880</td>\n",
       "      <td>0.429961</td>\n",
       "      <td>668.215279</td>\n",
       "    </tr>\n",
       "    <tr>\n",
       "      <th>78</th>\n",
       "      <td>(Star Wars (1977))</td>\n",
       "      <td>(Raiders of the Lost Ark (1981))</td>\n",
       "      <td>0.402969</td>\n",
       "      <td>0.651801</td>\n",
       "      <td>1.463449</td>\n",
       "      <td>0.388145</td>\n",
       "      <td>665.651584</td>\n",
       "    </tr>\n",
       "  </tbody>\n",
       "</table>\n",
       "</div>"
      ],
      "text/plain": [
       "           antecedents                       consequents   support  \\\n",
       "97  (Star Wars (1977))                (Toy Story (1995))  0.404030   \n",
       "86  (Star Wars (1977))       (Return of the Jedi (1983))  0.509014   \n",
       "34  (Star Wars (1977))                    (Fargo (1996))  0.417815   \n",
       "54  (Star Wars (1977))   (Independence Day (ID4) (1996))  0.383881   \n",
       "78  (Star Wars (1977))  (Raiders of the Lost Ark (1981))  0.402969   \n",
       "\n",
       "    confidence      lift  neg_lift      chi_sq  \n",
       "97    0.653516  1.363420  0.411405  672.536590  \n",
       "86    0.823328  1.531357  0.236239  669.869862  \n",
       "34    0.675815  1.254514  0.434483  669.651675  \n",
       "54    0.620926  1.364880  0.429961  668.215279  \n",
       "78    0.651801  1.463449  0.388145  665.651584  "
      ]
     },
     "execution_count": 7,
     "metadata": {},
     "output_type": "execute_result"
    }
   ],
   "source": [
    "#Dataset 100k ordenado pelo chi_sq (5 maiores)\n",
    "rules_100k.sort_values(['chi_sq'], ascending=False).head()"
   ]
  },
  {
   "cell_type": "markdown",
   "metadata": {},
   "source": [
    "### Análise adicional (Dataset 100k):\n",
    "* Contudo ao analisar o gráfico abaixo, podemos perceber que o lift possui uma __correlação positiva__ com a confiança, apesar do comportamento um tanto errático, já com o chi_sq, a __correlação__ passa a ser __negativa__."
   ]
  },
  {
   "cell_type": "code",
   "execution_count": 15,
   "metadata": {
    "ExecuteTime": {
     "end_time": "2019-04-06T00:52:31.267160Z",
     "start_time": "2019-04-06T00:52:30.637356Z"
    }
   },
   "outputs": [
    {
     "data": {
      "image/png": "[encoded data removed]",
      "text/plain": [
       "<Figure size 432x288 with 2 Axes>"
      ]
     },
     "metadata": {},
     "output_type": "display_data"
    }
   ],
   "source": [
    "import seaborn as sns; sns.set()\n",
    "import matplotlib.pyplot as plt\n",
    "\n",
    "plt.figure(1)\n",
    "plt.subplot(211)\n",
    "plt.title('Dataset 100k - Lift & Chi_Sq  x  Confiança')\n",
    "sns.lineplot(x=\"confidence\", y=\"lift\", data=rules_100k)             \n",
    "\n",
    "plt.subplot(212)\n",
    "sns.lineplot(x=\"confidence\", y=\"chi_sq\",  color=\"coral\", data=rules_100k)\n",
    "\n",
    "plt.show()"
   ]
  },
  {
   "cell_type": "markdown",
   "metadata": {},
   "source": [
    "## Dataset 1M\n",
    "\n",
    "* Para o dataset 1M nas duas tabelas abaixo, chegamos a uma conclusão semelhante ao dataset 100k"
   ]
  },
  {
   "cell_type": "code",
   "execution_count": 9,
   "metadata": {
    "ExecuteTime": {
     "end_time": "2019-04-06T00:47:03.829977Z",
     "start_time": "2019-04-06T00:47:03.802179Z"
    },
    "cell_style": "center",
    "scrolled": true
   },
   "outputs": [
    {
     "data": {
      "text/html": [
       "<div>\n",
       "<style scoped>\n",
       "    .dataframe tbody tr th:only-of-type {\n",
       "        vertical-align: middle;\n",
       "    }\n",
       "\n",
       "    .dataframe tbody tr th {\n",
       "        vertical-align: top;\n",
       "    }\n",
       "\n",
       "    .dataframe thead th {\n",
       "        text-align: right;\n",
       "    }\n",
       "</style>\n",
       "<table border=\"1\" class=\"dataframe\">\n",
       "  <thead>\n",
       "    <tr style=\"text-align: right;\">\n",
       "      <th></th>\n",
       "      <th>antecedents</th>\n",
       "      <th>consequents</th>\n",
       "      <th>support</th>\n",
       "      <th>confidence</th>\n",
       "      <th>lift</th>\n",
       "      <th>neg_lift</th>\n",
       "      <th>chi_sq</th>\n",
       "    </tr>\n",
       "  </thead>\n",
       "  <tbody>\n",
       "    <tr>\n",
       "      <th>23</th>\n",
       "      <td>(Terminator 2: Judgment Day (1991))</td>\n",
       "      <td>(Matrix, The (1999))</td>\n",
       "      <td>0.327483</td>\n",
       "      <td>0.746697</td>\n",
       "      <td>1.741332</td>\n",
       "      <td>0.194493</td>\n",
       "      <td>709.095232</td>\n",
       "    </tr>\n",
       "    <tr>\n",
       "      <th>22</th>\n",
       "      <td>(Matrix, The (1999))</td>\n",
       "      <td>(Terminator 2: Judgment Day (1991))</td>\n",
       "      <td>0.327483</td>\n",
       "      <td>0.763707</td>\n",
       "      <td>1.741332</td>\n",
       "      <td>0.180478</td>\n",
       "      <td>685.049502</td>\n",
       "    </tr>\n",
       "    <tr>\n",
       "      <th>11</th>\n",
       "      <td>(Men in Black (1997))</td>\n",
       "      <td>(Jurassic Park (1993))</td>\n",
       "      <td>0.321026</td>\n",
       "      <td>0.763987</td>\n",
       "      <td>1.726977</td>\n",
       "      <td>0.177850</td>\n",
       "      <td>662.545259</td>\n",
       "    </tr>\n",
       "    <tr>\n",
       "      <th>10</th>\n",
       "      <td>(Jurassic Park (1993))</td>\n",
       "      <td>(Men in Black (1997))</td>\n",
       "      <td>0.321026</td>\n",
       "      <td>0.725674</td>\n",
       "      <td>1.726977</td>\n",
       "      <td>0.209309</td>\n",
       "      <td>716.314378</td>\n",
       "    </tr>\n",
       "    <tr>\n",
       "      <th>25</th>\n",
       "      <td>(Terminator 2: Judgment Day (1991))</td>\n",
       "      <td>(Men in Black (1997))</td>\n",
       "      <td>0.307119</td>\n",
       "      <td>0.700264</td>\n",
       "      <td>1.666508</td>\n",
       "      <td>0.226728</td>\n",
       "      <td>705.331802</td>\n",
       "    </tr>\n",
       "  </tbody>\n",
       "</table>\n",
       "</div>"
      ],
      "text/plain": [
       "                            antecedents                          consequents  \\\n",
       "23  (Terminator 2: Judgment Day (1991))                 (Matrix, The (1999))   \n",
       "22                 (Matrix, The (1999))  (Terminator 2: Judgment Day (1991))   \n",
       "11                (Men in Black (1997))               (Jurassic Park (1993))   \n",
       "10               (Jurassic Park (1993))                (Men in Black (1997))   \n",
       "25  (Terminator 2: Judgment Day (1991))                (Men in Black (1997))   \n",
       "\n",
       "     support  confidence      lift  neg_lift      chi_sq  \n",
       "23  0.327483    0.746697  1.741332  0.194493  709.095232  \n",
       "22  0.327483    0.763707  1.741332  0.180478  685.049502  \n",
       "11  0.321026    0.763987  1.726977  0.177850  662.545259  \n",
       "10  0.321026    0.725674  1.726977  0.209309  716.314378  \n",
       "25  0.307119    0.700264  1.666508  0.226728  705.331802  "
      ]
     },
     "execution_count": 9,
     "metadata": {},
     "output_type": "execute_result"
    }
   ],
   "source": [
    "#Dataset 1M ordenado pelo lift (5 maiores)\n",
    "rules_1M.sort_values(['lift'], ascending=False).head()"
   ]
  },
  {
   "cell_type": "code",
   "execution_count": 10,
   "metadata": {
    "ExecuteTime": {
     "end_time": "2019-04-06T00:47:03.862322Z",
     "start_time": "2019-04-06T00:47:03.833706Z"
    },
    "cell_style": "center"
   },
   "outputs": [
    {
     "data": {
      "text/html": [
       "<div>\n",
       "<style scoped>\n",
       "    .dataframe tbody tr th:only-of-type {\n",
       "        vertical-align: middle;\n",
       "    }\n",
       "\n",
       "    .dataframe tbody tr th {\n",
       "        vertical-align: top;\n",
       "    }\n",
       "\n",
       "    .dataframe thead th {\n",
       "        text-align: right;\n",
       "    }\n",
       "</style>\n",
       "<table border=\"1\" class=\"dataframe\">\n",
       "  <thead>\n",
       "    <tr style=\"text-align: right;\">\n",
       "      <th></th>\n",
       "      <th>antecedents</th>\n",
       "      <th>consequents</th>\n",
       "      <th>support</th>\n",
       "      <th>confidence</th>\n",
       "      <th>lift</th>\n",
       "      <th>neg_lift</th>\n",
       "      <th>chi_sq</th>\n",
       "    </tr>\n",
       "  </thead>\n",
       "  <tbody>\n",
       "    <tr>\n",
       "      <th>30</th>\n",
       "      <td>(Star Wars: Episode IV - A New Hope (1977))</td>\n",
       "      <td>(Star Wars: Episode V - The Empire Strikes Bac...</td>\n",
       "      <td>0.389901</td>\n",
       "      <td>0.787362</td>\n",
       "      <td>1.590524</td>\n",
       "      <td>0.208525</td>\n",
       "      <td>908.785845</td>\n",
       "    </tr>\n",
       "    <tr>\n",
       "      <th>31</th>\n",
       "      <td>(Star Wars: Episode V - The Empire Strikes Bac...</td>\n",
       "      <td>(Star Wars: Episode IV - A New Hope (1977))</td>\n",
       "      <td>0.389901</td>\n",
       "      <td>0.787625</td>\n",
       "      <td>1.590524</td>\n",
       "      <td>0.208265</td>\n",
       "      <td>908.190018</td>\n",
       "    </tr>\n",
       "    <tr>\n",
       "      <th>32</th>\n",
       "      <td>(Star Wars: Episode IV - A New Hope (1977))</td>\n",
       "      <td>(Star Wars: Episode VI - Return of the Jedi (1...</td>\n",
       "      <td>0.349834</td>\n",
       "      <td>0.706453</td>\n",
       "      <td>1.480047</td>\n",
       "      <td>0.278112</td>\n",
       "      <td>907.005145</td>\n",
       "    </tr>\n",
       "    <tr>\n",
       "      <th>36</th>\n",
       "      <td>(Star Wars: Episode V - The Empire Strikes Bac...</td>\n",
       "      <td>(Star Wars: Episode VI - Return of the Jedi (1...</td>\n",
       "      <td>0.368874</td>\n",
       "      <td>0.745151</td>\n",
       "      <td>1.561120</td>\n",
       "      <td>0.241368</td>\n",
       "      <td>906.404621</td>\n",
       "    </tr>\n",
       "    <tr>\n",
       "      <th>12</th>\n",
       "      <td>(Star Wars: Episode IV - A New Hope (1977))</td>\n",
       "      <td>(Jurassic Park (1993))</td>\n",
       "      <td>0.301987</td>\n",
       "      <td>0.609829</td>\n",
       "      <td>1.378507</td>\n",
       "      <td>0.346496</td>\n",
       "      <td>896.807152</td>\n",
       "    </tr>\n",
       "  </tbody>\n",
       "</table>\n",
       "</div>"
      ],
      "text/plain": [
       "                                          antecedents  \\\n",
       "30        (Star Wars: Episode IV - A New Hope (1977))   \n",
       "31  (Star Wars: Episode V - The Empire Strikes Bac...   \n",
       "32        (Star Wars: Episode IV - A New Hope (1977))   \n",
       "36  (Star Wars: Episode V - The Empire Strikes Bac...   \n",
       "12        (Star Wars: Episode IV - A New Hope (1977))   \n",
       "\n",
       "                                          consequents   support  confidence  \\\n",
       "30  (Star Wars: Episode V - The Empire Strikes Bac...  0.389901    0.787362   \n",
       "31        (Star Wars: Episode IV - A New Hope (1977))  0.389901    0.787625   \n",
       "32  (Star Wars: Episode VI - Return of the Jedi (1...  0.349834    0.706453   \n",
       "36  (Star Wars: Episode VI - Return of the Jedi (1...  0.368874    0.745151   \n",
       "12                             (Jurassic Park (1993))  0.301987    0.609829   \n",
       "\n",
       "        lift  neg_lift      chi_sq  \n",
       "30  1.590524  0.208525  908.785845  \n",
       "31  1.590524  0.208265  908.190018  \n",
       "32  1.480047  0.278112  907.005145  \n",
       "36  1.561120  0.241368  906.404621  \n",
       "12  1.378507  0.346496  896.807152  "
      ]
     },
     "execution_count": 10,
     "metadata": {},
     "output_type": "execute_result"
    }
   ],
   "source": [
    "#Dataset 1M ordenado pelo chi_sq (5 maiores)\n",
    "rules_1M.sort_values(['chi_sq'], ascending=False).head()"
   ]
  },
  {
   "cell_type": "markdown",
   "metadata": {},
   "source": [
    "### Análise Adicional (Dataset 1M):\n",
    "* Para o dataset 1M, com menos regras, apesar de bastante errático, ainda podemos perceber o mesmo comportamento das regras selecionadas em relação ao lift e chi_sq versus confiança.\n"
   ]
  },
  {
   "cell_type": "code",
   "execution_count": 11,
   "metadata": {
    "ExecuteTime": {
     "end_time": "2019-04-06T00:47:04.413647Z",
     "start_time": "2019-04-06T00:47:03.866124Z"
    }
   },
   "outputs": [
    {
     "data": {
      "image/png": "[encoded data removed]",
      "text/plain": [
       "<Figure size 432x288 with 2 Axes>"
      ]
     },
     "metadata": {
      "needs_background": "light"
     },
     "output_type": "display_data"
    }
   ],
   "source": [
    "plt.figure(1)\n",
    "plt.subplot(211)\n",
    "plt.title('Dataset 1M - Lift & Chi_Sq  x  Confiança')\n",
    "sns.lineplot(x=\"confidence\", y=\"lift\", data=rules_1M)             \n",
    "\n",
    "plt.subplot(212)\n",
    "sns.lineplot(x=\"confidence\", y=\"chi_sq\",  color=\"coral\", data=rules_1M)\n",
    "\n",
    "plt.show()"
   ]
  },
  {
   "cell_type": "markdown",
   "metadata": {},
   "source": [
    "# Análse Comparariva\n",
    "\n",
    "* Por fim ao comparar as regras selecionadas nos 2 datasets, percebemos que há pouca interseção entre elas, apenas __4 antecedentes e 2 consequentes__ estão contidos nas duas regras, além disso não há __nenhuma regra idêntica__."
   ]
  },
  {
   "cell_type": "code",
   "execution_count": 12,
   "metadata": {
    "ExecuteTime": {
     "end_time": "2019-04-06T00:47:04.436651Z",
     "start_time": "2019-04-06T00:47:04.417350Z"
    }
   },
   "outputs": [
    {
     "name": "stdout",
     "output_type": "stream",
     "text": [
      "Número de Antecedentes nas regras dos dois datasets: 4\n"
     ]
    },
    {
     "data": {
      "text/plain": [
       "[frozenset({'Fargo (1996)'}),\n",
       " frozenset({'Silence of the Lambs, The (1991)'}),\n",
       " frozenset({'Back to the Future (1985)'}),\n",
       " frozenset({'Raiders of the Lost Ark (1981)'})]"
      ]
     },
     "execution_count": 12,
     "metadata": {},
     "output_type": "execute_result"
    }
   ],
   "source": [
    "#Antecedentes em ambas as listas de regras  \n",
    "antecedents_list = [ant for ant in rules_1M.antecedents.unique() if ant in rules_100k.antecedents.unique()]        \n",
    "print(\"Número de Antecedentes nas regras dos dois datasets:\", len(antecedents_list))\n",
    "antecedents_list"
   ]
  },
  {
   "cell_type": "code",
   "execution_count": 13,
   "metadata": {
    "ExecuteTime": {
     "end_time": "2019-04-06T00:47:04.457262Z",
     "start_time": "2019-04-06T00:47:04.440402Z"
    }
   },
   "outputs": [
    {
     "name": "stdout",
     "output_type": "stream",
     "text": [
      "Número de Consequentes nas regras dos dois datasets: 2\n"
     ]
    },
    {
     "data": {
      "text/plain": [
       "[frozenset({'Back to the Future (1985)'}),\n",
       " frozenset({'Raiders of the Lost Ark (1981)'})]"
      ]
     },
     "execution_count": 13,
     "metadata": {},
     "output_type": "execute_result"
    }
   ],
   "source": [
    "#consequentes em ambas as listas de regras  \n",
    "consequents_list = [con for con in rules_1M.consequents.unique() if con in rules_100k.consequents.unique()]        \n",
    "print(\"Número de Consequentes nas regras dos dois datasets:\", len(consequents_list))\n",
    "consequents_list"
   ]
  },
  {
   "cell_type": "code",
   "execution_count": 14,
   "metadata": {
    "ExecuteTime": {
     "end_time": "2019-04-06T00:47:04.472648Z",
     "start_time": "2019-04-06T00:47:04.462198Z"
    }
   },
   "outputs": [
    {
     "name": "stdout",
     "output_type": "stream",
     "text": [
      "Numero de regras idêntica: 0\n"
     ]
    }
   ],
   "source": [
    "rules_list_100k = [(a,b) for a,b in zip(rules_100k.antecedents, rules_100k.consequents)]\n",
    "rules_list_1M = [(a,b) for a,b in zip(rules_1M.antecedents, rules_1M.consequents)]\n",
    "print(\"Numero de regras idêntica:\", len([rule for rule in rules_list_1M if rule in rules_list_100k]))"
   ]
  },
  {
   "cell_type": "raw",
   "metadata": {},
   "source": [
    "<script>\n",
    "  jQuery(document).ready(function($) {\n",
    "\n",
    "  $(window).load(function(){\n",
    "    $('#preloader').fadeOut('slow',function(){$(this).remove();});\n",
    "  });\n",
    "\n",
    "  });\n",
    "</script>\n",
    "\n",
    "<style type=\"text/css\">\n",
    "  div#preloader { position: fixed;\n",
    "      left: 0;\n",
    "      top: 0;\n",
    "      z-index: 999;\n",
    "      width: 100%;\n",
    "      height: 100%;\n",
    "      overflow: visible;\n",
    "      background: #fff url('http://preloaders.net/preloaders/720/Moving%20line.gif') no-repeat center center;\n",
    "  }\n",
    "\n",
    "</style>\n",
    "\n",
    "<div id=\"preloader\"></div>"
   ]
  }
 ],
 "metadata": {
  "hide_input": false,
  "kernelspec": {
   "display_name": "Python 3",
   "language": "python",
   "name": "python3"
  },
  "language_info": {
   "codemirror_mode": {
    "name": "ipython",
    "version": 3
   },
   "file_extension": ".py",
   "mimetype": "text/x-python",
   "name": "python",
   "nbconvert_exporter": "python",
   "pygments_lexer": "ipython3",
   "version": "3.6.8"
  },
  "latex_envs": {
   "LaTeX_envs_menu_present": true,
   "autoclose": true,
   "autocomplete": true,
   "bibliofile": "biblio.bib",
   "cite_by": "apalike",
   "current_citInitial": 1,
   "eqLabelWithNumbers": true,
   "eqNumInitial": 1,
   "hotkeys": {
    "equation": "Ctrl-E",
    "itemize": "Ctrl-I"
   },
   "labels_anchors": false,
   "latex_user_defs": false,
   "report_style_numbering": true,
   "user_envs_cfg": true
  },
  "toc": {
   "base_numbering": 1,
   "nav_menu": {},
   "number_sections": true,
   "sideBar": true,
   "skip_h1_title": false,
   "title_cell": "Table of Contents",
   "title_sidebar": "Contents",
   "toc_cell": false,
   "toc_position": {},
   "toc_section_display": true,
   "toc_window_display": false
  },
  "varInspector": {
   "cols": {
    "lenName": 16,
    "lenType": 16,
    "lenVar": 40
   },
   "kernels_config": {
    "python": {
     "delete_cmd_postfix": "",
     "delete_cmd_prefix": "del ",
     "library": "var_list.py",
     "varRefreshCmd": "print(var_dic_list())"
    },
    "r": {
     "delete_cmd_postfix": ") ",
     "delete_cmd_prefix": "rm(",
     "library": "var_list.r",
     "varRefreshCmd": "cat(var_dic_list()) "
    }
   },
   "types_to_exclude": [
    "module",
    "function",
    "builtin_function_or_method",
    "instance",
    "_Feature"
   ],
   "window_display": false
  }
 },
 "nbformat": 4,
 "nbformat_minor": 2
}
